{
 "cells": [
  {
   "cell_type": "markdown",
   "metadata": {},
   "source": [
    "Привет! меня зовут Люман Аблаев. Сегодня я проверю твой проект.\n",
    "<br> Дальнейшее общение будет происходить на \"ты\" если это не вызывает никаких проблем.\n",
    "<br> Желательно реагировать на красные комментарии ('исправил', 'не понятно как исправить ошибку', ...)\n",
    "<br> Пожалуйста, не удаляй комментарии ревьюера, так как они повышают качество повторного ревью.\n",
    "\n",
    "Комментарии будут в <font color='green'>зеленой</font>, <font color='blue'>синей</font> или <font color='red'>красной</font> рамках:\n",
    "\n",
    "\n",
    "<div class=\"alert alert-block alert-success\">\n",
    "<b>Успех:</b> Если все сделано отлично\n",
    "</div>\n",
    "\n",
    "<div class=\"alert alert-block alert-info\">\n",
    "<b>Совет: </b> Если можно немного улучшить\n",
    "</div>\n",
    "\n",
    "<div class=\"alert alert-block alert-danger\">\n",
    "<b>Ошибка:</b> Если требуются исправления. Работа не может быть принята с красными комментариями.\n",
    "</div>\n",
    "\n",
    "-------------------\n",
    "\n",
    "Будет очень хорошо, если ты будешь помечать свои действия следующим образом:\n",
    "<div class=\"alert alert-block alert-warning\">\n",
    "<b>Комментарий студента:</b> ..\n",
    "</div>\n",
    "<div class=\"alert alert-block alert-warning\">\n",
    "<b>Изменения:</b> Были внесены следующие изменения ...\n",
    "</div>\n",
    "\n",
    "<font color='orange' style='font-size:24px; font-weight:bold'>Полезные ссылки</font>\n",
    "* Очень интересная и полезная статья: https://dyakonov.org/2021/05/27/imbalance/\n",
    "\n",
    "<font color='orange' style='font-size:24px; font-weight:bold'>Общее впечатление</font>\n",
    "* Спасибо за  качественную работу, видно, что приложено много усилий.\n",
    "- Я оставил некоторые советы, надеюсь они будут полезными или интересными.\n",
    "- Есть некоторые недочеты, которые нужно поправить, но у тебя это не должно занять много времени)\n",
    "- Жду обновленную работу\n"
   ]
  },
  {
   "cell_type": "markdown",
   "metadata": {},
   "source": [
    "Спасибо большое за обртаную связь, Люман!\n",
    "Вроде все поправил."
   ]
  },
  {
   "cell_type": "markdown",
   "metadata": {},
   "source": [
    "<font color='orange' style='font-size:24px; font-weight:bold'>Общее впечатление[2]</font>\n",
    "* Спасибо за оперативность\n",
    "- Приятно видеть фидбек \n",
    "- Недочеты исправлены - работа полностью корректна\n",
    "- Рад был быть полезен. Удачи в дальнейшем обучении!\n"
   ]
  },
  {
   "cell_type": "markdown",
   "metadata": {
    "toc": true
   },
   "source": [
    "<h1>Содержание<span class=\"tocSkip\"></span></h1>\n",
    "<div class=\"toc\"><ul class=\"toc-item\"><li><span><a href=\"#Подготовка-данных\" data-toc-modified-id=\"Подготовка-данных-1\"><span class=\"toc-item-num\">1&nbsp;&nbsp;</span>Подготовка данных</a></span></li><li><span><a href=\"#Исследование-задачи\" data-toc-modified-id=\"Исследование-задачи-2\"><span class=\"toc-item-num\">2&nbsp;&nbsp;</span>Исследование задачи</a></span></li><li><span><a href=\"#Борьба-с-дисбалансом\" data-toc-modified-id=\"Борьба-с-дисбалансом-3\"><span class=\"toc-item-num\">3&nbsp;&nbsp;</span>Борьба с дисбалансом</a></span></li><li><span><a href=\"#Тестирование-модели\" data-toc-modified-id=\"Тестирование-модели-4\"><span class=\"toc-item-num\">4&nbsp;&nbsp;</span>Тестирование модели</a></span></li><li><span><a href=\"#Чек-лист-готовности-проекта\" data-toc-modified-id=\"Чек-лист-готовности-проекта-5\"><span class=\"toc-item-num\">5&nbsp;&nbsp;</span>Чек-лист готовности проекта</a></span></li></ul></div>"
   ]
  },
  {
   "cell_type": "markdown",
   "metadata": {},
   "source": [
    "# Отток клиентов"
   ]
  },
  {
   "cell_type": "markdown",
   "metadata": {},
   "source": [
    "Из «Бета-Банка» стали уходить клиенты. Каждый месяц. Немного, но заметно. Банковские маркетологи посчитали: сохранять текущих клиентов дешевле, чем привлекать новых.\n",
    "\n",
    "Нужно спрогнозировать, уйдёт клиент из банка в ближайшее время или нет. Вам предоставлены исторические данные о поведении клиентов и расторжении договоров с банком. \n",
    "\n",
    "Постройте модель с предельно большим значением *F1*-меры. Чтобы сдать проект успешно, нужно довести метрику до 0.59. Проверьте *F1*-меру на тестовой выборке самостоятельно.\n",
    "\n",
    "Дополнительно измеряйте *AUC-ROC*, сравнивайте её значение с *F1*-мерой.\n",
    "\n",
    "Источник данных: [https://www.kaggle.com/barelydedicated/bank-customer-churn-modeling](https://www.kaggle.com/barelydedicated/bank-customer-churn-modeling)"
   ]
  },
  {
   "cell_type": "markdown",
   "metadata": {},
   "source": [
    "## Подготовка данных"
   ]
  },
  {
   "cell_type": "code",
   "execution_count": 32,
   "metadata": {},
   "outputs": [],
   "source": [
    "import pandas as pd\n",
    "from sklearn.metrics import accuracy_score\n",
    "from sklearn.utils import shuffle\n",
    "import matplotlib.pyplot as plt\n",
    "from sklearn.metrics import f1_score\n",
    "from sklearn.metrics import roc_curve\n",
    "from sklearn.metrics import roc_auc_score\n",
    "from sklearn.model_selection import train_test_split\n",
    "from sklearn.preprocessing import StandardScaler\n",
    "from sklearn.tree import DecisionTreeClassifier\n",
    "from sklearn.ensemble import RandomForestClassifier\n",
    "from sklearn.linear_model import LogisticRegression"
   ]
  },
  {
   "cell_type": "code",
   "execution_count": 33,
   "metadata": {},
   "outputs": [
    {
     "data": {
      "text/html": [
       "<div>\n",
       "<style scoped>\n",
       "    .dataframe tbody tr th:only-of-type {\n",
       "        vertical-align: middle;\n",
       "    }\n",
       "\n",
       "    .dataframe tbody tr th {\n",
       "        vertical-align: top;\n",
       "    }\n",
       "\n",
       "    .dataframe thead th {\n",
       "        text-align: right;\n",
       "    }\n",
       "</style>\n",
       "<table border=\"1\" class=\"dataframe\">\n",
       "  <thead>\n",
       "    <tr style=\"text-align: right;\">\n",
       "      <th></th>\n",
       "      <th>RowNumber</th>\n",
       "      <th>CustomerId</th>\n",
       "      <th>Surname</th>\n",
       "      <th>CreditScore</th>\n",
       "      <th>Geography</th>\n",
       "      <th>Gender</th>\n",
       "      <th>Age</th>\n",
       "      <th>Tenure</th>\n",
       "      <th>Balance</th>\n",
       "      <th>NumOfProducts</th>\n",
       "      <th>HasCrCard</th>\n",
       "      <th>IsActiveMember</th>\n",
       "      <th>EstimatedSalary</th>\n",
       "      <th>Exited</th>\n",
       "    </tr>\n",
       "  </thead>\n",
       "  <tbody>\n",
       "    <tr>\n",
       "      <th>0</th>\n",
       "      <td>1</td>\n",
       "      <td>15634602</td>\n",
       "      <td>Hargrave</td>\n",
       "      <td>619</td>\n",
       "      <td>France</td>\n",
       "      <td>Female</td>\n",
       "      <td>42</td>\n",
       "      <td>2.0</td>\n",
       "      <td>0.00</td>\n",
       "      <td>1</td>\n",
       "      <td>1</td>\n",
       "      <td>1</td>\n",
       "      <td>101348.88</td>\n",
       "      <td>1</td>\n",
       "    </tr>\n",
       "    <tr>\n",
       "      <th>1</th>\n",
       "      <td>2</td>\n",
       "      <td>15647311</td>\n",
       "      <td>Hill</td>\n",
       "      <td>608</td>\n",
       "      <td>Spain</td>\n",
       "      <td>Female</td>\n",
       "      <td>41</td>\n",
       "      <td>1.0</td>\n",
       "      <td>83807.86</td>\n",
       "      <td>1</td>\n",
       "      <td>0</td>\n",
       "      <td>1</td>\n",
       "      <td>112542.58</td>\n",
       "      <td>0</td>\n",
       "    </tr>\n",
       "    <tr>\n",
       "      <th>2</th>\n",
       "      <td>3</td>\n",
       "      <td>15619304</td>\n",
       "      <td>Onio</td>\n",
       "      <td>502</td>\n",
       "      <td>France</td>\n",
       "      <td>Female</td>\n",
       "      <td>42</td>\n",
       "      <td>8.0</td>\n",
       "      <td>159660.80</td>\n",
       "      <td>3</td>\n",
       "      <td>1</td>\n",
       "      <td>0</td>\n",
       "      <td>113931.57</td>\n",
       "      <td>1</td>\n",
       "    </tr>\n",
       "    <tr>\n",
       "      <th>3</th>\n",
       "      <td>4</td>\n",
       "      <td>15701354</td>\n",
       "      <td>Boni</td>\n",
       "      <td>699</td>\n",
       "      <td>France</td>\n",
       "      <td>Female</td>\n",
       "      <td>39</td>\n",
       "      <td>1.0</td>\n",
       "      <td>0.00</td>\n",
       "      <td>2</td>\n",
       "      <td>0</td>\n",
       "      <td>0</td>\n",
       "      <td>93826.63</td>\n",
       "      <td>0</td>\n",
       "    </tr>\n",
       "    <tr>\n",
       "      <th>4</th>\n",
       "      <td>5</td>\n",
       "      <td>15737888</td>\n",
       "      <td>Mitchell</td>\n",
       "      <td>850</td>\n",
       "      <td>Spain</td>\n",
       "      <td>Female</td>\n",
       "      <td>43</td>\n",
       "      <td>2.0</td>\n",
       "      <td>125510.82</td>\n",
       "      <td>1</td>\n",
       "      <td>1</td>\n",
       "      <td>1</td>\n",
       "      <td>79084.10</td>\n",
       "      <td>0</td>\n",
       "    </tr>\n",
       "    <tr>\n",
       "      <th>...</th>\n",
       "      <td>...</td>\n",
       "      <td>...</td>\n",
       "      <td>...</td>\n",
       "      <td>...</td>\n",
       "      <td>...</td>\n",
       "      <td>...</td>\n",
       "      <td>...</td>\n",
       "      <td>...</td>\n",
       "      <td>...</td>\n",
       "      <td>...</td>\n",
       "      <td>...</td>\n",
       "      <td>...</td>\n",
       "      <td>...</td>\n",
       "      <td>...</td>\n",
       "    </tr>\n",
       "    <tr>\n",
       "      <th>9995</th>\n",
       "      <td>9996</td>\n",
       "      <td>15606229</td>\n",
       "      <td>Obijiaku</td>\n",
       "      <td>771</td>\n",
       "      <td>France</td>\n",
       "      <td>Male</td>\n",
       "      <td>39</td>\n",
       "      <td>5.0</td>\n",
       "      <td>0.00</td>\n",
       "      <td>2</td>\n",
       "      <td>1</td>\n",
       "      <td>0</td>\n",
       "      <td>96270.64</td>\n",
       "      <td>0</td>\n",
       "    </tr>\n",
       "    <tr>\n",
       "      <th>9996</th>\n",
       "      <td>9997</td>\n",
       "      <td>15569892</td>\n",
       "      <td>Johnstone</td>\n",
       "      <td>516</td>\n",
       "      <td>France</td>\n",
       "      <td>Male</td>\n",
       "      <td>35</td>\n",
       "      <td>10.0</td>\n",
       "      <td>57369.61</td>\n",
       "      <td>1</td>\n",
       "      <td>1</td>\n",
       "      <td>1</td>\n",
       "      <td>101699.77</td>\n",
       "      <td>0</td>\n",
       "    </tr>\n",
       "    <tr>\n",
       "      <th>9997</th>\n",
       "      <td>9998</td>\n",
       "      <td>15584532</td>\n",
       "      <td>Liu</td>\n",
       "      <td>709</td>\n",
       "      <td>France</td>\n",
       "      <td>Female</td>\n",
       "      <td>36</td>\n",
       "      <td>7.0</td>\n",
       "      <td>0.00</td>\n",
       "      <td>1</td>\n",
       "      <td>0</td>\n",
       "      <td>1</td>\n",
       "      <td>42085.58</td>\n",
       "      <td>1</td>\n",
       "    </tr>\n",
       "    <tr>\n",
       "      <th>9998</th>\n",
       "      <td>9999</td>\n",
       "      <td>15682355</td>\n",
       "      <td>Sabbatini</td>\n",
       "      <td>772</td>\n",
       "      <td>Germany</td>\n",
       "      <td>Male</td>\n",
       "      <td>42</td>\n",
       "      <td>3.0</td>\n",
       "      <td>75075.31</td>\n",
       "      <td>2</td>\n",
       "      <td>1</td>\n",
       "      <td>0</td>\n",
       "      <td>92888.52</td>\n",
       "      <td>1</td>\n",
       "    </tr>\n",
       "    <tr>\n",
       "      <th>9999</th>\n",
       "      <td>10000</td>\n",
       "      <td>15628319</td>\n",
       "      <td>Walker</td>\n",
       "      <td>792</td>\n",
       "      <td>France</td>\n",
       "      <td>Female</td>\n",
       "      <td>28</td>\n",
       "      <td>NaN</td>\n",
       "      <td>130142.79</td>\n",
       "      <td>1</td>\n",
       "      <td>1</td>\n",
       "      <td>0</td>\n",
       "      <td>38190.78</td>\n",
       "      <td>0</td>\n",
       "    </tr>\n",
       "  </tbody>\n",
       "</table>\n",
       "<p>10000 rows × 14 columns</p>\n",
       "</div>"
      ],
      "text/plain": [
       "      RowNumber  CustomerId    Surname  CreditScore Geography  Gender  Age  \\\n",
       "0             1    15634602   Hargrave          619    France  Female   42   \n",
       "1             2    15647311       Hill          608     Spain  Female   41   \n",
       "2             3    15619304       Onio          502    France  Female   42   \n",
       "3             4    15701354       Boni          699    France  Female   39   \n",
       "4             5    15737888   Mitchell          850     Spain  Female   43   \n",
       "...         ...         ...        ...          ...       ...     ...  ...   \n",
       "9995       9996    15606229   Obijiaku          771    France    Male   39   \n",
       "9996       9997    15569892  Johnstone          516    France    Male   35   \n",
       "9997       9998    15584532        Liu          709    France  Female   36   \n",
       "9998       9999    15682355  Sabbatini          772   Germany    Male   42   \n",
       "9999      10000    15628319     Walker          792    France  Female   28   \n",
       "\n",
       "      Tenure    Balance  NumOfProducts  HasCrCard  IsActiveMember  \\\n",
       "0        2.0       0.00              1          1               1   \n",
       "1        1.0   83807.86              1          0               1   \n",
       "2        8.0  159660.80              3          1               0   \n",
       "3        1.0       0.00              2          0               0   \n",
       "4        2.0  125510.82              1          1               1   \n",
       "...      ...        ...            ...        ...             ...   \n",
       "9995     5.0       0.00              2          1               0   \n",
       "9996    10.0   57369.61              1          1               1   \n",
       "9997     7.0       0.00              1          0               1   \n",
       "9998     3.0   75075.31              2          1               0   \n",
       "9999     NaN  130142.79              1          1               0   \n",
       "\n",
       "      EstimatedSalary  Exited  \n",
       "0           101348.88       1  \n",
       "1           112542.58       0  \n",
       "2           113931.57       1  \n",
       "3            93826.63       0  \n",
       "4            79084.10       0  \n",
       "...               ...     ...  \n",
       "9995         96270.64       0  \n",
       "9996        101699.77       0  \n",
       "9997         42085.58       1  \n",
       "9998         92888.52       1  \n",
       "9999         38190.78       0  \n",
       "\n",
       "[10000 rows x 14 columns]"
      ]
     },
     "execution_count": 33,
     "metadata": {},
     "output_type": "execute_result"
    }
   ],
   "source": [
    "df = pd.read_csv('/datasets/Churn.csv')\n",
    "df"
   ]
  },
  {
   "cell_type": "markdown",
   "metadata": {},
   "source": [
    "На данном этапе необходимо получить общее представлениие о данных, а так же проверить их на наличие пропусков и дубликатов."
   ]
  },
  {
   "cell_type": "code",
   "execution_count": 34,
   "metadata": {
    "scrolled": true
   },
   "outputs": [
    {
     "data": {
      "image/png": "[encoded data removed]",
      "text/plain": [
       "<Figure size 720x1080 with 12 Axes>"
      ]
     },
     "metadata": {
      "needs_background": "light"
     },
     "output_type": "display_data"
    }
   ],
   "source": [
    "df.hist(figsize=(10, 15));"
   ]
  },
  {
   "cell_type": "markdown",
   "metadata": {},
   "source": [
    "<div class=\"alert alert-block alert-info\">\n",
    "<b>Совет:</b>  Тебе не кажется, что размер графиков оставляет желать лучшего? И если есть графики - то должно быть какое-то заключение, состоящее из наблюдений.\n",
    "</div>"
   ]
  },
  {
   "cell_type": "code",
   "execution_count": 35,
   "metadata": {},
   "outputs": [
    {
     "name": "stdout",
     "output_type": "stream",
     "text": [
      "<class 'pandas.core.frame.DataFrame'>\n",
      "RangeIndex: 10000 entries, 0 to 9999\n",
      "Data columns (total 14 columns):\n",
      " #   Column           Non-Null Count  Dtype  \n",
      "---  ------           --------------  -----  \n",
      " 0   RowNumber        10000 non-null  int64  \n",
      " 1   CustomerId       10000 non-null  int64  \n",
      " 2   Surname          10000 non-null  object \n",
      " 3   CreditScore      10000 non-null  int64  \n",
      " 4   Geography        10000 non-null  object \n",
      " 5   Gender           10000 non-null  object \n",
      " 6   Age              10000 non-null  int64  \n",
      " 7   Tenure           9091 non-null   float64\n",
      " 8   Balance          10000 non-null  float64\n",
      " 9   NumOfProducts    10000 non-null  int64  \n",
      " 10  HasCrCard        10000 non-null  int64  \n",
      " 11  IsActiveMember   10000 non-null  int64  \n",
      " 12  EstimatedSalary  10000 non-null  float64\n",
      " 13  Exited           10000 non-null  int64  \n",
      "dtypes: float64(3), int64(8), object(3)\n",
      "memory usage: 1.1+ MB\n"
     ]
    }
   ],
   "source": [
    "df.info()"
   ]
  },
  {
   "cell_type": "code",
   "execution_count": 36,
   "metadata": {},
   "outputs": [
    {
     "data": {
      "text/plain": [
       "909"
      ]
     },
     "execution_count": 36,
     "metadata": {},
     "output_type": "execute_result"
    }
   ],
   "source": [
    "df.Tenure.isna().sum()"
   ]
  },
  {
   "cell_type": "markdown",
   "metadata": {},
   "source": [
    "Пропуски (909) имеются в признаке 'Tenure'. Попробую с этим что нибудь сделать."
   ]
  },
  {
   "cell_type": "code",
   "execution_count": 37,
   "metadata": {},
   "outputs": [
    {
     "data": {
      "text/html": [
       "<div>\n",
       "<style scoped>\n",
       "    .dataframe tbody tr th:only-of-type {\n",
       "        vertical-align: middle;\n",
       "    }\n",
       "\n",
       "    .dataframe tbody tr th {\n",
       "        vertical-align: top;\n",
       "    }\n",
       "\n",
       "    .dataframe thead th {\n",
       "        text-align: right;\n",
       "    }\n",
       "</style>\n",
       "<table border=\"1\" class=\"dataframe\">\n",
       "  <thead>\n",
       "    <tr style=\"text-align: right;\">\n",
       "      <th></th>\n",
       "      <th>RowNumber</th>\n",
       "      <th>CustomerId</th>\n",
       "      <th>Surname</th>\n",
       "      <th>CreditScore</th>\n",
       "      <th>Geography</th>\n",
       "      <th>Gender</th>\n",
       "      <th>Age</th>\n",
       "      <th>Tenure</th>\n",
       "      <th>Balance</th>\n",
       "      <th>NumOfProducts</th>\n",
       "      <th>HasCrCard</th>\n",
       "      <th>IsActiveMember</th>\n",
       "      <th>EstimatedSalary</th>\n",
       "      <th>Exited</th>\n",
       "    </tr>\n",
       "  </thead>\n",
       "  <tbody>\n",
       "    <tr>\n",
       "      <th>30</th>\n",
       "      <td>31</td>\n",
       "      <td>15589475</td>\n",
       "      <td>Azikiwe</td>\n",
       "      <td>591</td>\n",
       "      <td>Spain</td>\n",
       "      <td>Female</td>\n",
       "      <td>39</td>\n",
       "      <td>NaN</td>\n",
       "      <td>0.00</td>\n",
       "      <td>3</td>\n",
       "      <td>1</td>\n",
       "      <td>0</td>\n",
       "      <td>140469.38</td>\n",
       "      <td>1</td>\n",
       "    </tr>\n",
       "    <tr>\n",
       "      <th>48</th>\n",
       "      <td>49</td>\n",
       "      <td>15766205</td>\n",
       "      <td>Yin</td>\n",
       "      <td>550</td>\n",
       "      <td>Germany</td>\n",
       "      <td>Male</td>\n",
       "      <td>38</td>\n",
       "      <td>NaN</td>\n",
       "      <td>103391.38</td>\n",
       "      <td>1</td>\n",
       "      <td>0</td>\n",
       "      <td>1</td>\n",
       "      <td>90878.13</td>\n",
       "      <td>0</td>\n",
       "    </tr>\n",
       "    <tr>\n",
       "      <th>51</th>\n",
       "      <td>52</td>\n",
       "      <td>15768193</td>\n",
       "      <td>Trevisani</td>\n",
       "      <td>585</td>\n",
       "      <td>Germany</td>\n",
       "      <td>Male</td>\n",
       "      <td>36</td>\n",
       "      <td>NaN</td>\n",
       "      <td>146050.97</td>\n",
       "      <td>2</td>\n",
       "      <td>0</td>\n",
       "      <td>0</td>\n",
       "      <td>86424.57</td>\n",
       "      <td>0</td>\n",
       "    </tr>\n",
       "    <tr>\n",
       "      <th>53</th>\n",
       "      <td>54</td>\n",
       "      <td>15702298</td>\n",
       "      <td>Parkhill</td>\n",
       "      <td>655</td>\n",
       "      <td>Germany</td>\n",
       "      <td>Male</td>\n",
       "      <td>41</td>\n",
       "      <td>NaN</td>\n",
       "      <td>125561.97</td>\n",
       "      <td>1</td>\n",
       "      <td>0</td>\n",
       "      <td>0</td>\n",
       "      <td>164040.94</td>\n",
       "      <td>1</td>\n",
       "    </tr>\n",
       "    <tr>\n",
       "      <th>60</th>\n",
       "      <td>61</td>\n",
       "      <td>15651280</td>\n",
       "      <td>Hunter</td>\n",
       "      <td>742</td>\n",
       "      <td>Germany</td>\n",
       "      <td>Male</td>\n",
       "      <td>35</td>\n",
       "      <td>NaN</td>\n",
       "      <td>136857.00</td>\n",
       "      <td>1</td>\n",
       "      <td>0</td>\n",
       "      <td>0</td>\n",
       "      <td>84509.57</td>\n",
       "      <td>0</td>\n",
       "    </tr>\n",
       "    <tr>\n",
       "      <th>...</th>\n",
       "      <td>...</td>\n",
       "      <td>...</td>\n",
       "      <td>...</td>\n",
       "      <td>...</td>\n",
       "      <td>...</td>\n",
       "      <td>...</td>\n",
       "      <td>...</td>\n",
       "      <td>...</td>\n",
       "      <td>...</td>\n",
       "      <td>...</td>\n",
       "      <td>...</td>\n",
       "      <td>...</td>\n",
       "      <td>...</td>\n",
       "      <td>...</td>\n",
       "    </tr>\n",
       "    <tr>\n",
       "      <th>9944</th>\n",
       "      <td>9945</td>\n",
       "      <td>15703923</td>\n",
       "      <td>Cameron</td>\n",
       "      <td>744</td>\n",
       "      <td>Germany</td>\n",
       "      <td>Male</td>\n",
       "      <td>41</td>\n",
       "      <td>NaN</td>\n",
       "      <td>190409.34</td>\n",
       "      <td>2</td>\n",
       "      <td>1</td>\n",
       "      <td>1</td>\n",
       "      <td>138361.48</td>\n",
       "      <td>0</td>\n",
       "    </tr>\n",
       "    <tr>\n",
       "      <th>9956</th>\n",
       "      <td>9957</td>\n",
       "      <td>15707861</td>\n",
       "      <td>Nucci</td>\n",
       "      <td>520</td>\n",
       "      <td>France</td>\n",
       "      <td>Female</td>\n",
       "      <td>46</td>\n",
       "      <td>NaN</td>\n",
       "      <td>85216.61</td>\n",
       "      <td>1</td>\n",
       "      <td>1</td>\n",
       "      <td>0</td>\n",
       "      <td>117369.52</td>\n",
       "      <td>1</td>\n",
       "    </tr>\n",
       "    <tr>\n",
       "      <th>9964</th>\n",
       "      <td>9965</td>\n",
       "      <td>15642785</td>\n",
       "      <td>Douglas</td>\n",
       "      <td>479</td>\n",
       "      <td>France</td>\n",
       "      <td>Male</td>\n",
       "      <td>34</td>\n",
       "      <td>NaN</td>\n",
       "      <td>117593.48</td>\n",
       "      <td>2</td>\n",
       "      <td>0</td>\n",
       "      <td>0</td>\n",
       "      <td>113308.29</td>\n",
       "      <td>0</td>\n",
       "    </tr>\n",
       "    <tr>\n",
       "      <th>9985</th>\n",
       "      <td>9986</td>\n",
       "      <td>15586914</td>\n",
       "      <td>Nepean</td>\n",
       "      <td>659</td>\n",
       "      <td>France</td>\n",
       "      <td>Male</td>\n",
       "      <td>36</td>\n",
       "      <td>NaN</td>\n",
       "      <td>123841.49</td>\n",
       "      <td>2</td>\n",
       "      <td>1</td>\n",
       "      <td>0</td>\n",
       "      <td>96833.00</td>\n",
       "      <td>0</td>\n",
       "    </tr>\n",
       "    <tr>\n",
       "      <th>9999</th>\n",
       "      <td>10000</td>\n",
       "      <td>15628319</td>\n",
       "      <td>Walker</td>\n",
       "      <td>792</td>\n",
       "      <td>France</td>\n",
       "      <td>Female</td>\n",
       "      <td>28</td>\n",
       "      <td>NaN</td>\n",
       "      <td>130142.79</td>\n",
       "      <td>1</td>\n",
       "      <td>1</td>\n",
       "      <td>0</td>\n",
       "      <td>38190.78</td>\n",
       "      <td>0</td>\n",
       "    </tr>\n",
       "  </tbody>\n",
       "</table>\n",
       "<p>909 rows × 14 columns</p>\n",
       "</div>"
      ],
      "text/plain": [
       "      RowNumber  CustomerId    Surname  CreditScore Geography  Gender  Age  \\\n",
       "30           31    15589475    Azikiwe          591     Spain  Female   39   \n",
       "48           49    15766205        Yin          550   Germany    Male   38   \n",
       "51           52    15768193  Trevisani          585   Germany    Male   36   \n",
       "53           54    15702298   Parkhill          655   Germany    Male   41   \n",
       "60           61    15651280     Hunter          742   Germany    Male   35   \n",
       "...         ...         ...        ...          ...       ...     ...  ...   \n",
       "9944       9945    15703923    Cameron          744   Germany    Male   41   \n",
       "9956       9957    15707861      Nucci          520    France  Female   46   \n",
       "9964       9965    15642785    Douglas          479    France    Male   34   \n",
       "9985       9986    15586914     Nepean          659    France    Male   36   \n",
       "9999      10000    15628319     Walker          792    France  Female   28   \n",
       "\n",
       "      Tenure    Balance  NumOfProducts  HasCrCard  IsActiveMember  \\\n",
       "30       NaN       0.00              3          1               0   \n",
       "48       NaN  103391.38              1          0               1   \n",
       "51       NaN  146050.97              2          0               0   \n",
       "53       NaN  125561.97              1          0               0   \n",
       "60       NaN  136857.00              1          0               0   \n",
       "...      ...        ...            ...        ...             ...   \n",
       "9944     NaN  190409.34              2          1               1   \n",
       "9956     NaN   85216.61              1          1               0   \n",
       "9964     NaN  117593.48              2          0               0   \n",
       "9985     NaN  123841.49              2          1               0   \n",
       "9999     NaN  130142.79              1          1               0   \n",
       "\n",
       "      EstimatedSalary  Exited  \n",
       "30          140469.38       1  \n",
       "48           90878.13       0  \n",
       "51           86424.57       0  \n",
       "53          164040.94       1  \n",
       "60           84509.57       0  \n",
       "...               ...     ...  \n",
       "9944        138361.48       0  \n",
       "9956        117369.52       1  \n",
       "9964        113308.29       0  \n",
       "9985         96833.00       0  \n",
       "9999         38190.78       0  \n",
       "\n",
       "[909 rows x 14 columns]"
      ]
     },
     "execution_count": 37,
     "metadata": {},
     "output_type": "execute_result"
    }
   ],
   "source": [
    "df[pd.isna(df['Tenure'])]"
   ]
  },
  {
   "cell_type": "code",
   "execution_count": 38,
   "metadata": {},
   "outputs": [
    {
     "data": {
      "text/plain": [
       "<AxesSubplot:>"
      ]
     },
     "execution_count": 38,
     "metadata": {},
     "output_type": "execute_result"
    },
    {
     "data": {
      "image/png": "[encoded data removed]",
      "text/plain": [
       "<Figure size 432x288 with 1 Axes>"
      ]
     },
     "metadata": {
      "needs_background": "light"
     },
     "output_type": "display_data"
    }
   ],
   "source": [
    "df['Tenure'].hist(bins=20)"
   ]
  },
  {
   "cell_type": "code",
   "execution_count": 39,
   "metadata": {},
   "outputs": [
    {
     "data": {
      "text/plain": [
       "1.0     952\n",
       "2.0     950\n",
       "8.0     933\n",
       "3.0     928\n",
       "5.0     927\n",
       "7.0     925\n",
       "4.0     885\n",
       "9.0     882\n",
       "6.0     881\n",
       "10.0    446\n",
       "0.0     382\n",
       "Name: Tenure, dtype: int64"
      ]
     },
     "execution_count": 39,
     "metadata": {},
     "output_type": "execute_result"
    }
   ],
   "source": [
    "df['Tenure'].value_counts()"
   ]
  },
  {
   "cell_type": "code",
   "execution_count": 40,
   "metadata": {},
   "outputs": [
    {
     "data": {
      "text/plain": [
       "count    9091.000000\n",
       "mean        4.997690\n",
       "std         2.894723\n",
       "min         0.000000\n",
       "25%         2.000000\n",
       "50%         5.000000\n",
       "75%         7.000000\n",
       "max        10.000000\n",
       "Name: Tenure, dtype: float64"
      ]
     },
     "execution_count": 40,
     "metadata": {},
     "output_type": "execute_result"
    }
   ],
   "source": [
    "df.Tenure.describe()"
   ]
  },
  {
   "cell_type": "markdown",
   "metadata": {},
   "source": [
    "Разброс по значениям не сильно большой, поэтому принял решение заменить пропуски медианным значением."
   ]
  },
  {
   "cell_type": "code",
   "execution_count": 41,
   "metadata": {},
   "outputs": [],
   "source": [
    "df['Tenure'] = df['Tenure'].fillna(df['Tenure'].median())"
   ]
  },
  {
   "cell_type": "code",
   "execution_count": 42,
   "metadata": {},
   "outputs": [
    {
     "data": {
      "text/plain": [
       "RowNumber          0\n",
       "CustomerId         0\n",
       "Surname            0\n",
       "CreditScore        0\n",
       "Geography          0\n",
       "Gender             0\n",
       "Age                0\n",
       "Tenure             0\n",
       "Balance            0\n",
       "NumOfProducts      0\n",
       "HasCrCard          0\n",
       "IsActiveMember     0\n",
       "EstimatedSalary    0\n",
       "Exited             0\n",
       "dtype: int64"
      ]
     },
     "execution_count": 42,
     "metadata": {},
     "output_type": "execute_result"
    }
   ],
   "source": [
    "df.isna().sum()"
   ]
  },
  {
   "cell_type": "markdown",
   "metadata": {},
   "source": [
    "Проведу проверку на дубликаты"
   ]
  },
  {
   "cell_type": "code",
   "execution_count": 43,
   "metadata": {},
   "outputs": [
    {
     "data": {
      "text/plain": [
       "0"
      ]
     },
     "execution_count": 43,
     "metadata": {},
     "output_type": "execute_result"
    }
   ],
   "source": [
    "df.duplicated().sum()"
   ]
  },
  {
   "cell_type": "markdown",
   "metadata": {},
   "source": [
    "Теперь данные готовы для дальнейшей работы."
   ]
  },
  {
   "cell_type": "markdown",
   "metadata": {},
   "source": [
    "\n",
    "<div class=\"alert alert-block alert-info\">\n",
    "<b>Совет:</b>  Советую обратить внимание на библиотеки sweetviz и pandas_profiling помогут в проведении более тщательного EDA анализа. Исследовательский анализ можно делать и с помощью ручного вызова функций дефолтных библиотек. Данные библиотеки хороши для максимизации комфорта презентации результатов анализа бизнес-пользователям. \n",
    "    \n",
    "Очень просты в использоовании, на вход кладется датафрейм: pandas_profiling.ProfileReport(df) \n",
    "\n",
    "</div>\n",
    "\n"
   ]
  },
  {
   "cell_type": "code",
   "execution_count": 44,
   "metadata": {},
   "outputs": [],
   "source": [
    "#pandas_profiling.ProfileReport(df)"
   ]
  },
  {
   "cell_type": "markdown",
   "metadata": {},
   "source": [
    "## Исследование задачи"
   ]
  },
  {
   "cell_type": "markdown",
   "metadata": {},
   "source": [
    "По условиям задания, необходимо спрогнозировать, перестанет ли человек быть клиентом банка.\n",
    "Вообще уже сейчас тянет избавится от признаков , которые, на мой взгляд, не оказывают влияние на обучение модели.\n",
    "Так и сделаю. Таковыми я считаю 'RowNumber' , 'CustomerId', 'Surname'."
   ]
  },
  {
   "cell_type": "code",
   "execution_count": 45,
   "metadata": {},
   "outputs": [
    {
     "data": {
      "text/html": [
       "<div>\n",
       "<style scoped>\n",
       "    .dataframe tbody tr th:only-of-type {\n",
       "        vertical-align: middle;\n",
       "    }\n",
       "\n",
       "    .dataframe tbody tr th {\n",
       "        vertical-align: top;\n",
       "    }\n",
       "\n",
       "    .dataframe thead th {\n",
       "        text-align: right;\n",
       "    }\n",
       "</style>\n",
       "<table border=\"1\" class=\"dataframe\">\n",
       "  <thead>\n",
       "    <tr style=\"text-align: right;\">\n",
       "      <th></th>\n",
       "      <th>CreditScore</th>\n",
       "      <th>Geography</th>\n",
       "      <th>Gender</th>\n",
       "      <th>Age</th>\n",
       "      <th>Tenure</th>\n",
       "      <th>Balance</th>\n",
       "      <th>NumOfProducts</th>\n",
       "      <th>HasCrCard</th>\n",
       "      <th>IsActiveMember</th>\n",
       "      <th>EstimatedSalary</th>\n",
       "      <th>Exited</th>\n",
       "    </tr>\n",
       "  </thead>\n",
       "  <tbody>\n",
       "    <tr>\n",
       "      <th>0</th>\n",
       "      <td>619</td>\n",
       "      <td>France</td>\n",
       "      <td>Female</td>\n",
       "      <td>42</td>\n",
       "      <td>2.0</td>\n",
       "      <td>0.00</td>\n",
       "      <td>1</td>\n",
       "      <td>1</td>\n",
       "      <td>1</td>\n",
       "      <td>101348.88</td>\n",
       "      <td>1</td>\n",
       "    </tr>\n",
       "    <tr>\n",
       "      <th>1</th>\n",
       "      <td>608</td>\n",
       "      <td>Spain</td>\n",
       "      <td>Female</td>\n",
       "      <td>41</td>\n",
       "      <td>1.0</td>\n",
       "      <td>83807.86</td>\n",
       "      <td>1</td>\n",
       "      <td>0</td>\n",
       "      <td>1</td>\n",
       "      <td>112542.58</td>\n",
       "      <td>0</td>\n",
       "    </tr>\n",
       "    <tr>\n",
       "      <th>2</th>\n",
       "      <td>502</td>\n",
       "      <td>France</td>\n",
       "      <td>Female</td>\n",
       "      <td>42</td>\n",
       "      <td>8.0</td>\n",
       "      <td>159660.80</td>\n",
       "      <td>3</td>\n",
       "      <td>1</td>\n",
       "      <td>0</td>\n",
       "      <td>113931.57</td>\n",
       "      <td>1</td>\n",
       "    </tr>\n",
       "    <tr>\n",
       "      <th>3</th>\n",
       "      <td>699</td>\n",
       "      <td>France</td>\n",
       "      <td>Female</td>\n",
       "      <td>39</td>\n",
       "      <td>1.0</td>\n",
       "      <td>0.00</td>\n",
       "      <td>2</td>\n",
       "      <td>0</td>\n",
       "      <td>0</td>\n",
       "      <td>93826.63</td>\n",
       "      <td>0</td>\n",
       "    </tr>\n",
       "    <tr>\n",
       "      <th>4</th>\n",
       "      <td>850</td>\n",
       "      <td>Spain</td>\n",
       "      <td>Female</td>\n",
       "      <td>43</td>\n",
       "      <td>2.0</td>\n",
       "      <td>125510.82</td>\n",
       "      <td>1</td>\n",
       "      <td>1</td>\n",
       "      <td>1</td>\n",
       "      <td>79084.10</td>\n",
       "      <td>0</td>\n",
       "    </tr>\n",
       "    <tr>\n",
       "      <th>...</th>\n",
       "      <td>...</td>\n",
       "      <td>...</td>\n",
       "      <td>...</td>\n",
       "      <td>...</td>\n",
       "      <td>...</td>\n",
       "      <td>...</td>\n",
       "      <td>...</td>\n",
       "      <td>...</td>\n",
       "      <td>...</td>\n",
       "      <td>...</td>\n",
       "      <td>...</td>\n",
       "    </tr>\n",
       "    <tr>\n",
       "      <th>9995</th>\n",
       "      <td>771</td>\n",
       "      <td>France</td>\n",
       "      <td>Male</td>\n",
       "      <td>39</td>\n",
       "      <td>5.0</td>\n",
       "      <td>0.00</td>\n",
       "      <td>2</td>\n",
       "      <td>1</td>\n",
       "      <td>0</td>\n",
       "      <td>96270.64</td>\n",
       "      <td>0</td>\n",
       "    </tr>\n",
       "    <tr>\n",
       "      <th>9996</th>\n",
       "      <td>516</td>\n",
       "      <td>France</td>\n",
       "      <td>Male</td>\n",
       "      <td>35</td>\n",
       "      <td>10.0</td>\n",
       "      <td>57369.61</td>\n",
       "      <td>1</td>\n",
       "      <td>1</td>\n",
       "      <td>1</td>\n",
       "      <td>101699.77</td>\n",
       "      <td>0</td>\n",
       "    </tr>\n",
       "    <tr>\n",
       "      <th>9997</th>\n",
       "      <td>709</td>\n",
       "      <td>France</td>\n",
       "      <td>Female</td>\n",
       "      <td>36</td>\n",
       "      <td>7.0</td>\n",
       "      <td>0.00</td>\n",
       "      <td>1</td>\n",
       "      <td>0</td>\n",
       "      <td>1</td>\n",
       "      <td>42085.58</td>\n",
       "      <td>1</td>\n",
       "    </tr>\n",
       "    <tr>\n",
       "      <th>9998</th>\n",
       "      <td>772</td>\n",
       "      <td>Germany</td>\n",
       "      <td>Male</td>\n",
       "      <td>42</td>\n",
       "      <td>3.0</td>\n",
       "      <td>75075.31</td>\n",
       "      <td>2</td>\n",
       "      <td>1</td>\n",
       "      <td>0</td>\n",
       "      <td>92888.52</td>\n",
       "      <td>1</td>\n",
       "    </tr>\n",
       "    <tr>\n",
       "      <th>9999</th>\n",
       "      <td>792</td>\n",
       "      <td>France</td>\n",
       "      <td>Female</td>\n",
       "      <td>28</td>\n",
       "      <td>5.0</td>\n",
       "      <td>130142.79</td>\n",
       "      <td>1</td>\n",
       "      <td>1</td>\n",
       "      <td>0</td>\n",
       "      <td>38190.78</td>\n",
       "      <td>0</td>\n",
       "    </tr>\n",
       "  </tbody>\n",
       "</table>\n",
       "<p>10000 rows × 11 columns</p>\n",
       "</div>"
      ],
      "text/plain": [
       "      CreditScore Geography  Gender  Age  Tenure    Balance  NumOfProducts  \\\n",
       "0             619    France  Female   42     2.0       0.00              1   \n",
       "1             608     Spain  Female   41     1.0   83807.86              1   \n",
       "2             502    France  Female   42     8.0  159660.80              3   \n",
       "3             699    France  Female   39     1.0       0.00              2   \n",
       "4             850     Spain  Female   43     2.0  125510.82              1   \n",
       "...           ...       ...     ...  ...     ...        ...            ...   \n",
       "9995          771    France    Male   39     5.0       0.00              2   \n",
       "9996          516    France    Male   35    10.0   57369.61              1   \n",
       "9997          709    France  Female   36     7.0       0.00              1   \n",
       "9998          772   Germany    Male   42     3.0   75075.31              2   \n",
       "9999          792    France  Female   28     5.0  130142.79              1   \n",
       "\n",
       "      HasCrCard  IsActiveMember  EstimatedSalary  Exited  \n",
       "0             1               1        101348.88       1  \n",
       "1             0               1        112542.58       0  \n",
       "2             1               0        113931.57       1  \n",
       "3             0               0         93826.63       0  \n",
       "4             1               1         79084.10       0  \n",
       "...         ...             ...              ...     ...  \n",
       "9995          1               0         96270.64       0  \n",
       "9996          1               1        101699.77       0  \n",
       "9997          0               1         42085.58       1  \n",
       "9998          1               0         92888.52       1  \n",
       "9999          1               0         38190.78       0  \n",
       "\n",
       "[10000 rows x 11 columns]"
      ]
     },
     "execution_count": 45,
     "metadata": {},
     "output_type": "execute_result"
    }
   ],
   "source": [
    "df = df.drop(['RowNumber','CustomerId','Surname'],axis=1)\n",
    "df"
   ]
  },
  {
   "cell_type": "markdown",
   "metadata": {},
   "source": [
    "\n",
    "<div class=\"alert alert-block alert-success\">\n",
    "<b>Успех:</b> Удалить неинформативные признаки - верное решение.\n",
    "</div>\n"
   ]
  },
  {
   "cell_type": "markdown",
   "metadata": {},
   "source": [
    "Необходимо перевести объектные признаки в числовые. Буду использовать для этого метод OHE."
   ]
  },
  {
   "cell_type": "code",
   "execution_count": 46,
   "metadata": {},
   "outputs": [],
   "source": [
    "df = pd.get_dummies(df, drop_first=True)"
   ]
  },
  {
   "cell_type": "markdown",
   "metadata": {},
   "source": [
    "<div class=\"alert alert-block alert-success\">\n",
    "<b>Успех:</b>  Прямое кодирование - хороший выбор, молодец, что не забываешь про drop_first. Но советую в будущем обратить внимание на инструмент OneHotEncoder от sklearn\n",
    "</div>\n"
   ]
  },
  {
   "cell_type": "markdown",
   "metadata": {},
   "source": [
    "Сразу определим признаки и целевой признак"
   ]
  },
  {
   "cell_type": "code",
   "execution_count": 47,
   "metadata": {},
   "outputs": [],
   "source": [
    "features = df.drop('Exited',axis=1)\n",
    "target = df['Exited']"
   ]
  },
  {
   "cell_type": "markdown",
   "metadata": {},
   "source": [
    "Делю датасет на три выборки: обучающую, валидационную, и тестовую, в соотношении 70 15 15"
   ]
  },
  {
   "cell_type": "code",
   "execution_count": 48,
   "metadata": {},
   "outputs": [],
   "source": [
    "features_train, features_valid, target_train, target_valid = train_test_split(\n",
    "    features, target, test_size=0.3, random_state=12345,stratify=target)\n",
    "\n",
    "features_valid , features_test, target_valid, target_test = train_test_split(\n",
    "    features_valid, target_valid, test_size=0.5, random_state=12345,stratify=target_valid)"
   ]
  },
  {
   "cell_type": "code",
   "execution_count": 49,
   "metadata": {},
   "outputs": [
    {
     "data": {
      "text/plain": [
       "(7000, 11)"
      ]
     },
     "execution_count": 49,
     "metadata": {},
     "output_type": "execute_result"
    }
   ],
   "source": [
    "features_train.shape"
   ]
  },
  {
   "cell_type": "code",
   "execution_count": 50,
   "metadata": {},
   "outputs": [
    {
     "data": {
      "text/plain": [
       "(1500, 11)"
      ]
     },
     "execution_count": 50,
     "metadata": {},
     "output_type": "execute_result"
    }
   ],
   "source": [
    "features_valid.shape"
   ]
  },
  {
   "cell_type": "code",
   "execution_count": 51,
   "metadata": {},
   "outputs": [
    {
     "data": {
      "text/plain": [
       "(1500, 11)"
      ]
     },
     "execution_count": 51,
     "metadata": {},
     "output_type": "execute_result"
    }
   ],
   "source": [
    "features_test.shape"
   ]
  },
  {
   "cell_type": "markdown",
   "metadata": {},
   "source": [
    "\n",
    "<div class=\"alert alert-block alert-info\">\n",
    "<b>Совет:</b> С разбиением все в порядке, здесь при разбиении можно также использовать стратификацию. Почитай про нее в интернете, а в метода train_test_split за это отвечает параметр stratify\n",
    "</div>"
   ]
  },
  {
   "cell_type": "markdown",
   "metadata": {},
   "source": [
    "Все разбито корректно. Теперь необходимо привести все признаки к одному масштабу, что бы модель считала каждый признак\n",
    "равнозначным по важности."
   ]
  },
  {
   "cell_type": "code",
   "execution_count": 52,
   "metadata": {},
   "outputs": [],
   "source": [
    "pd.options.mode.chained_assignment = None\n",
    "numeric = ['CreditScore', 'Age', 'Tenure', 'Balance','EstimatedSalary']\n",
    "scaler = StandardScaler()\n",
    "scaler.fit(features_train[numeric])\n",
    "features_train[numeric] = scaler.transform(features_train[numeric])\n",
    "features_valid[numeric] = scaler.transform(features_valid[numeric])\n",
    "features_test[numeric] = scaler.transform(features_test[numeric])"
   ]
  },
  {
   "cell_type": "markdown",
   "metadata": {},
   "source": [
    "\n",
    "\n",
    "<div class=\"alert alert-block alert-success\">\n",
    "<b>Успех:</b> Отлично, что scaler обучен только на трейне\n",
    "</div>"
   ]
  },
  {
   "cell_type": "markdown",
   "metadata": {},
   "source": [
    "По условию проекта , необходимо попытаться получить значение целевых метрик без правки имеющегося дисбаланса (а он тут имеется, о чем говорит ниже приведенный фрагмент)."
   ]
  },
  {
   "cell_type": "code",
   "execution_count": 53,
   "metadata": {
    "scrolled": true
   },
   "outputs": [
    {
     "data": {
      "text/plain": [
       "0    0.7963\n",
       "1    0.2037\n",
       "Name: Exited, dtype: float64"
      ]
     },
     "execution_count": 53,
     "metadata": {},
     "output_type": "execute_result"
    }
   ],
   "source": [
    "target.value_counts(normalize=True)"
   ]
  },
  {
   "cell_type": "markdown",
   "metadata": {},
   "source": [
    "<div class=\"alert alert-block alert-success\">\n",
    "<b>Успех:</b> дисбаланс обнаружен\n",
    "</div>"
   ]
  },
  {
   "cell_type": "markdown",
   "metadata": {},
   "source": [
    "Пробую получить значение accuracy"
   ]
  },
  {
   "cell_type": "code",
   "execution_count": 54,
   "metadata": {},
   "outputs": [
    {
     "data": {
      "text/plain": [
       "0.8626666666666667"
      ]
     },
     "execution_count": 54,
     "metadata": {},
     "output_type": "execute_result"
    }
   ],
   "source": [
    "model = RandomForestClassifier(random_state=12345)\n",
    "model.fit(features_train,target_train)\n",
    "mp = model.predict(features_valid)\n",
    "accuracy_score(target_valid,mp)"
   ]
  },
  {
   "cell_type": "markdown",
   "metadata": {},
   "source": [
    "Показатели вроде бы неплохие, нужно проверить модель на адекватность путем сравнения полученного значения , с показателями\n",
    "константной модели."
   ]
  },
  {
   "cell_type": "code",
   "execution_count": 55,
   "metadata": {},
   "outputs": [],
   "source": [
    "target_pred_constant = pd.Series(0, index=target.index)"
   ]
  },
  {
   "cell_type": "code",
   "execution_count": 56,
   "metadata": {},
   "outputs": [
    {
     "data": {
      "text/plain": [
       "0.7963"
      ]
     },
     "execution_count": 56,
     "metadata": {},
     "output_type": "execute_result"
    }
   ],
   "source": [
    "accuracy_score(target, target_pred_constant)"
   ]
  },
  {
   "cell_type": "code",
   "execution_count": 57,
   "metadata": {},
   "outputs": [
    {
     "data": {
      "text/plain": [
       "0.5743801652892562"
      ]
     },
     "execution_count": 57,
     "metadata": {},
     "output_type": "execute_result"
    }
   ],
   "source": [
    "f1_score(target_valid,mp)"
   ]
  },
  {
   "cell_type": "markdown",
   "metadata": {},
   "source": [
    "Показатели точности привышают показатели константной модели. Да и значение F1 - метрики (по крайней мере, на валидационной выборке) удовлетворяет условиям проекта.\n",
    "Но дисбаланс классов все равно имеет место быть, и с ним нужно провести работу."
   ]
  },
  {
   "cell_type": "markdown",
   "metadata": {},
   "source": [
    "<div class=\"alert alert-block alert-danger\">  \n",
    "<b>Ошибка:</b> Шаг проделан хорошо, но здесь также нужно считать ROC_AUC \n",
    "\n",
    "</div>\n"
   ]
  },
  {
   "cell_type": "code",
   "execution_count": 58,
   "metadata": {},
   "outputs": [
    {
     "data": {
      "text/plain": [
       "0.858703922663426"
      ]
     },
     "execution_count": 58,
     "metadata": {},
     "output_type": "execute_result"
    }
   ],
   "source": [
    "probabilities_valid = model.predict_proba(features_valid)\n",
    "probabilities_one_valid = probabilities_valid[:, 1]\n",
    "roc_auc_score(target_valid,probabilities_one_valid)"
   ]
  },
  {
   "cell_type": "markdown",
   "metadata": {},
   "source": [
    "\n",
    "<div class=\"alert alert-block alert-success\">\n",
    "    \n",
    "<b>Успех[2]:</b> 👍\n",
    "</div>"
   ]
  },
  {
   "cell_type": "markdown",
   "metadata": {},
   "source": [
    "## Борьба с дисбалансом"
   ]
  },
  {
   "cell_type": "markdown",
   "metadata": {},
   "source": [
    "Попробую применить технику \"upsampling\"."
   ]
  },
  {
   "cell_type": "code",
   "execution_count": 59,
   "metadata": {},
   "outputs": [],
   "source": [
    "def upsample(features, target, repeat):\n",
    "    features_zeros = features[target == 0]\n",
    "    features_ones = features[target == 1]\n",
    "    target_zeros = target[target == 0]\n",
    "    target_ones = target[target == 1]\n",
    "\n",
    "    features_upsampled = pd.concat([features_zeros] + [features_ones] * repeat)\n",
    "    target_upsampled = pd.concat([target_zeros] + [target_ones] * repeat)\n",
    "    \n",
    "    features_upsampled, target_upsampled = shuffle(\n",
    "        features_upsampled, target_upsampled, random_state=12345)\n",
    "    \n",
    "    return features_upsampled, target_upsampled"
   ]
  },
  {
   "cell_type": "code",
   "execution_count": 60,
   "metadata": {},
   "outputs": [],
   "source": [
    "features_upsampled, target_upsampled = upsample(features_train, target_train, 4)"
   ]
  },
  {
   "cell_type": "code",
   "execution_count": 61,
   "metadata": {},
   "outputs": [
    {
     "data": {
      "text/plain": [
       "1    0.505763\n",
       "0    0.494237\n",
       "Name: Exited, dtype: float64"
      ]
     },
     "execution_count": 61,
     "metadata": {},
     "output_type": "execute_result"
    }
   ],
   "source": [
    "target_upsampled.value_counts(normalize=True)"
   ]
  },
  {
   "cell_type": "markdown",
   "metadata": {},
   "source": [
    "\n",
    "<div class=\"alert alert-block alert-success\">\n",
    "    \n",
    "<b>Успех:</b> Выбран правильный `repeat`\n",
    "</div>\n"
   ]
  },
  {
   "cell_type": "code",
   "execution_count": 46,
   "metadata": {},
   "outputs": [
    {
     "data": {
      "text/plain": [
       "0.5785714285714285"
      ]
     },
     "execution_count": 46,
     "metadata": {},
     "output_type": "execute_result"
    }
   ],
   "source": [
    "model = RandomForestClassifier(random_state=12345)\n",
    "model.fit(features_upsampled,target_upsampled)\n",
    "predicted_valid = model.predict(features_valid)\n",
    "f1_score(target_valid,predicted_valid)"
   ]
  },
  {
   "cell_type": "code",
   "execution_count": 45,
   "metadata": {},
   "outputs": [
    {
     "data": {
      "text/plain": [
       "0.8626082482127413"
      ]
     },
     "execution_count": 45,
     "metadata": {},
     "output_type": "execute_result"
    }
   ],
   "source": [
    "probabilities_valid = model.predict_proba(features_valid)\n",
    "probabilities_one_valid = probabilities_valid[:, 1]\n",
    "roc_auc_score(target_valid,probabilities_one_valid)"
   ]
  },
  {
   "cell_type": "markdown",
   "metadata": {},
   "source": [
    "Техника \"upsampling\" дала 3% - ый прирост F1 - метрики.\n",
    "AUC-ROC же имеет показатель 0.8626082482127413.\n",
    "В условии проекта просят сравнивать F1 и AUC-ROC, но я если честно не понимаю ,как именно это сделать.\n",
    "Буду благодарен за пояснение этого момента."
   ]
  },
  {
   "cell_type": "markdown",
   "metadata": {},
   "source": [
    "Теперь попробую применить технику 'downsampling'"
   ]
  },
  {
   "cell_type": "code",
   "execution_count": 32,
   "metadata": {},
   "outputs": [],
   "source": [
    "def downsample(features, target, fraction):\n",
    "    features_zeros = features[target == 0]\n",
    "    features_ones = features[target == 1]\n",
    "    target_zeros = target[target == 0]\n",
    "    target_ones = target[target == 1]\n",
    "\n",
    "    features_downsampled = pd.concat(\n",
    "        [features_zeros.sample(frac=fraction, random_state=12345)] + [features_ones])\n",
    "    target_downsampled = pd.concat(\n",
    "        [target_zeros.sample(frac=fraction, random_state=12345)] + [target_ones])\n",
    "    \n",
    "    features_downsampled, target_downsampled = shuffle(\n",
    "        features_downsampled, target_downsampled, random_state=12345)\n",
    "    \n",
    "    return features_downsampled, target_downsampled"
   ]
  },
  {
   "cell_type": "code",
   "execution_count": 33,
   "metadata": {},
   "outputs": [],
   "source": [
    "features_downsampled, target_downsampled = downsample(features_train, target_train, 0.3)"
   ]
  },
  {
   "cell_type": "markdown",
   "metadata": {},
   "source": [
    "\n",
    "<div class=\"alert alert-block alert-danger\"> \n",
    "\n",
    "<b>Ошибка:</b> Наша цель избавиться от дисбаланса, то есть использовать такой `fraction`, который устраняет дисбаланс, а не создает новый. Проверить можно через `target_downsampled.value_counts()`\n",
    "</div>\n"
   ]
  },
  {
   "cell_type": "markdown",
   "metadata": {},
   "source": [
    "\n",
    "<div class=\"alert alert-block alert-success\">\n",
    "    \n",
    "<b>Успех[2]:</b> Уже лучше, но 0.26 было бы поближе к истине\n",
    "</div>"
   ]
  },
  {
   "cell_type": "code",
   "execution_count": 34,
   "metadata": {},
   "outputs": [
    {
     "data": {
      "text/plain": [
       "0    1672\n",
       "1    1426\n",
       "Name: Exited, dtype: int64"
      ]
     },
     "execution_count": 34,
     "metadata": {},
     "output_type": "execute_result"
    }
   ],
   "source": [
    "target_downsampled.value_counts()"
   ]
  },
  {
   "cell_type": "code",
   "execution_count": 35,
   "metadata": {},
   "outputs": [
    {
     "data": {
      "text/plain": [
       "0.5924932975871314"
      ]
     },
     "execution_count": 35,
     "metadata": {},
     "output_type": "execute_result"
    }
   ],
   "source": [
    "model = RandomForestClassifier(random_state=12345)\n",
    "model.fit(features_downsampled,target_downsampled)\n",
    "predicted_valid = model.predict(features_valid)\n",
    "f1_score(target_valid,predicted_valid)"
   ]
  },
  {
   "cell_type": "code",
   "execution_count": 36,
   "metadata": {},
   "outputs": [
    {
     "data": {
      "text/plain": [
       "0.8559956645974973"
      ]
     },
     "execution_count": 36,
     "metadata": {},
     "output_type": "execute_result"
    }
   ],
   "source": [
    "probabilities_valid = model.predict_proba(features_valid)\n",
    "probabilities_one_valid = probabilities_valid[:, 1]\n",
    "roc_auc_score(target_valid,probabilities_one_valid)"
   ]
  },
  {
   "cell_type": "markdown",
   "metadata": {},
   "source": [
    "Далее протестирую три модели (лес,дерево, лог.регрессию) с перебором параметров. И по результатам,\n",
    "отправлю на дальнейшее тестирование модель с наиболее высоким показателем F1 - меры."
   ]
  },
  {
   "cell_type": "code",
   "execution_count": 37,
   "metadata": {},
   "outputs": [
    {
     "name": "stdout",
     "output_type": "stream",
     "text": [
      "Наиболее высокий показатель F1 - меры для решающего дерева - 0.5685714285714286, при max_depth = 10.\n"
     ]
    }
   ],
   "source": [
    "best_depth = 0\n",
    "best_f1 = 0\n",
    "for i in range(1,21):\n",
    "    model = DecisionTreeClassifier(max_depth=i,random_state=12345)\n",
    "    model.fit(features_upsampled, target_upsampled)\n",
    "    mp = model.predict(features_valid)\n",
    "    f1 = f1_score(target_valid,mp)\n",
    "    if best_f1 < f1:\n",
    "        best_f1 = f1\n",
    "        best_depth = i\n",
    "print(f'Наиболее высокий показатель F1 - меры для решающего дерева - {best_f1}, при max_depth = {best_depth}.')        "
   ]
  },
  {
   "cell_type": "code",
   "execution_count": 38,
   "metadata": {},
   "outputs": [
    {
     "data": {
      "text/plain": [
       "0.6741756166453182"
      ]
     },
     "execution_count": 38,
     "metadata": {},
     "output_type": "execute_result"
    }
   ],
   "source": [
    "probabilities_valid = model.predict_proba(features_valid)\n",
    "probabilities_one_valid = probabilities_valid[:, 1]\n",
    "roc_auc_score(target_valid,probabilities_one_valid)"
   ]
  },
  {
   "cell_type": "code",
   "execution_count": 39,
   "metadata": {},
   "outputs": [
    {
     "name": "stdout",
     "output_type": "stream",
     "text": [
      "Наиболее высокий показатель F1 - меры для случайного леса - 0.6277173913043479, при max_depth = 8 , и best_est = 100\n"
     ]
    }
   ],
   "source": [
    "best_depth = 0\n",
    "best_f1 = 0\n",
    "best_est = 0\n",
    "\n",
    "for depth in range(1,21):\n",
    "    for n_estim in range(100,105):\n",
    "        model = RandomForestClassifier(max_depth=depth,n_estimators=n_estim,random_state=12345)\n",
    "        model.fit(features_upsampled, target_upsampled)\n",
    "        mp = model.predict(features_valid)\n",
    "        f1 = f1_score(target_valid,mp)\n",
    "        if best_f1 < f1:\n",
    "            best_f1 = f1\n",
    "            best_depth = depth\n",
    "            best_est = n_estim\n",
    "print(f'Наиболее высокий показатель F1 - меры для случайного леса - {best_f1}, при max_depth = {best_depth} , и best_est = {best_est}')        "
   ]
  },
  {
   "cell_type": "code",
   "execution_count": 40,
   "metadata": {},
   "outputs": [
    {
     "data": {
      "text/plain": [
       "0.8542097743620062"
      ]
     },
     "execution_count": 40,
     "metadata": {},
     "output_type": "execute_result"
    }
   ],
   "source": [
    "probabilities_valid = model.predict_proba(features_valid)\n",
    "probabilities_one_valid = probabilities_valid[:, 1]\n",
    "roc_auc_score(target_valid,probabilities_one_valid)"
   ]
  },
  {
   "cell_type": "markdown",
   "metadata": {},
   "source": [
    "\n",
    "<div class=\"alert alert-block alert-info\">\n",
    "<b>Совет:</b> \n",
    "    \n",
    "1) Вместо букв i, z лучше использовать названия, например 'depth' или 'n_estim'\n",
    "    \n",
    "2) Можно использовать шаг в функции range (третьим аргументом), и тогда перебор будет быстрее и диапазоны для n_estimators можно будет сделать шире.  (также можно добавить и другие гиперпараметры, при желании все есть в документации).\n",
    "    \n",
    "3) Выше 20 для древовидных деревьев с таким небольшим кол-во данным лучше делать - можно переобучиться\n",
    "</div>"
   ]
  },
  {
   "cell_type": "code",
   "execution_count": 41,
   "metadata": {},
   "outputs": [
    {
     "data": {
      "text/plain": [
       "0.511520737327189"
      ]
     },
     "execution_count": 41,
     "metadata": {},
     "output_type": "execute_result"
    }
   ],
   "source": [
    "model = LogisticRegression(random_state=12345, solver='lbfgs')\n",
    "model.fit(features_upsampled, target_upsampled)\n",
    "mp = model.predict(features_valid)\n",
    "f1_score(target_valid,mp)"
   ]
  },
  {
   "cell_type": "code",
   "execution_count": 42,
   "metadata": {},
   "outputs": [
    {
     "data": {
      "text/plain": [
       "0.7793214438204092"
      ]
     },
     "execution_count": 42,
     "metadata": {},
     "output_type": "execute_result"
    }
   ],
   "source": [
    "probabilities_valid = model.predict_proba(features_valid)\n",
    "probabilities_one_valid = probabilities_valid[:, 1]\n",
    "roc_auc_score(target_valid,probabilities_one_valid)"
   ]
  },
  {
   "cell_type": "markdown",
   "metadata": {},
   "source": [
    "По итогам тестирования на валидационной выборке, наболее высокое значение F1 - меры (0.6414473684210525)\n",
    "показывает лес, с параметрами max_depth = 14, и best_est = 104.\n",
    "\n",
    "Соответственно далее на тестовую выборку отправляется именно она.\n"
   ]
  },
  {
   "cell_type": "markdown",
   "metadata": {},
   "source": [
    "<div class=\"alert alert-block alert-success\">\n",
    "<b>Успех:</b> хорошая работа с моделями машинного обучения.  Радует  достаточное количество расмотренных методов для борьбы с дисбалансом.\n",
    "\n",
    "</div>\n"
   ]
  },
  {
   "cell_type": "markdown",
   "metadata": {},
   "source": [
    "\n",
    "<div class=\"alert alert-block alert-danger\"> \n",
    "\n",
    "<b>Ошибка:</b> Пожалуйста посчитай ROC_AUC для всех моделей\n",
    "</div>\n"
   ]
  },
  {
   "cell_type": "markdown",
   "metadata": {},
   "source": [
    "\n",
    "<div class=\"alert alert-block alert-success\">\n",
    "    \n",
    "<b>Успех[2]:</b> Есть\n",
    "</div>"
   ]
  },
  {
   "cell_type": "markdown",
   "metadata": {},
   "source": [
    "## Тестирование модели"
   ]
  },
  {
   "cell_type": "code",
   "execution_count": 43,
   "metadata": {},
   "outputs": [
    {
     "data": {
      "text/plain": [
       "0.6191247974068071"
      ]
     },
     "execution_count": 43,
     "metadata": {},
     "output_type": "execute_result"
    }
   ],
   "source": [
    "model = RandomForestClassifier(max_depth=14,n_estimators=104,random_state=12345)\n",
    "model.fit(features_upsampled, target_upsampled)\n",
    "mp = model.predict(features_test)\n",
    "f1_score(target_test,mp)"
   ]
  },
  {
   "cell_type": "code",
   "execution_count": 44,
   "metadata": {
    "scrolled": true
   },
   "outputs": [
    {
     "data": {
      "text/plain": [
       "0.8608327045750738"
      ]
     },
     "execution_count": 44,
     "metadata": {},
     "output_type": "execute_result"
    }
   ],
   "source": [
    "probabilities_test = model.predict_proba(features_test)\n",
    "probabilities_one_test = probabilities_test[:, 1]\n",
    "roc_auc_score(target_test,probabilities_one_test)"
   ]
  },
  {
   "cell_type": "markdown",
   "metadata": {},
   "source": [
    "<div class=\"alert alert-block alert-success\">\n",
    "<b>Успех:</b>  С тестированием все в порядке! Тебе удалось достичь хороших показателей метрик на тесте. \n",
    "</div> \n"
   ]
  },
  {
   "cell_type": "markdown",
   "metadata": {},
   "source": [
    "<div class=\"alert alert-block alert-danger\">\n",
    "<b>Ошибка:</b>\n",
    "    \n",
    " переименуй все названия переменных в этом шаге, которые содержат суффикс/преффикс **valid**. Это путает, у нас в этом шаге нет валидационной выорки, только тестовая\n",
    "</div>\n"
   ]
  },
  {
   "cell_type": "markdown",
   "metadata": {},
   "source": [
    "\n",
    "<div class=\"alert alert-block alert-success\">\n",
    "    \n",
    "<b>Успех[2]:</b> Есть контакт\n",
    "</div>"
   ]
  },
  {
   "cell_type": "markdown",
   "metadata": {},
   "source": [
    "\n",
    "<div class=\"alert alert-block alert-info\">\n",
    "<b>Совет:</b> Для понимания, а какие в итоге факторы важны при моделировании, можно выводить их важность, использую feature_importances_, ну и график заодно. Это будет смотреться очнь здорово: результативная метрика и график важности факторов)))<br> Очень ВАЖНАЯ для аналитики штука. Ведь нам не просто модель с метрикой нужна, а ещё и причины понять высокой/низкой метрики. Т.е. понять с какой силой сами факторы влияют на целевую.\n",
    "</div>"
   ]
  },
  {
   "cell_type": "markdown",
   "metadata": {},
   "source": [
    "Значение F1 - меры для тестовой выборки - 0.6191247974068071, что удовлетворяет требованию проекта.\n",
    "\n",
    "AUC-ROC же имеет показатель 0.8608327045750738.\n",
    "\n",
    "Как я уже ранее писал, не понимаю, как именно нужно сравнивать эти показатели между собой.\n",
    "\n",
    "И вообще был бы очень признателен, если проверяющий даст несколько дельных советов, как можно еще улучшить f1 - меру ))))\n",
    "\n",
    "Спасибо большое за проверку, буду ждать обратной связи :)"
   ]
  },
  {
   "cell_type": "markdown",
   "metadata": {},
   "source": [
    "<div class=\"alert alert-block alert-success\">\n",
    "<b>Ревьювер:</b> Надеюсь, мое ревью было полезным!)\n",
    "</div> \n"
   ]
  },
  {
   "cell_type": "markdown",
   "metadata": {},
   "source": [
    "## Чек-лист готовности проекта"
   ]
  },
  {
   "cell_type": "markdown",
   "metadata": {},
   "source": [
    "Поставьте 'x' в выполненных пунктах. Далее нажмите Shift+Enter."
   ]
  },
  {
   "cell_type": "markdown",
   "metadata": {},
   "source": [
    "- [x]  Jupyter Notebook открыт\n",
    "- [x]  Весь код выполняется без ошибок\n",
    "- [x]  Ячейки с кодом расположены в порядке исполнения\n",
    "- [x]  Выполнен шаг 1: данные подготовлены\n",
    "- [x]  Выполнен шаг 2: задача исследована\n",
    "    - [x]  Исследован баланс классов\n",
    "    - [x]  Изучены модели без учёта дисбаланса\n",
    "    - [x]  Написаны выводы по результатам исследования\n",
    "- [x]  Выполнен шаг 3: учтён дисбаланс\n",
    "    - [x]  Применено несколько способов борьбы с дисбалансом\n",
    "    - [x]  Написаны выводы по результатам исследования\n",
    "- [x]  Выполнен шаг 4: проведено тестирование\n",
    "- [x]  Удалось достичь *F1*-меры не менее 0.59\n",
    "- [x]  Исследована метрика *AUC-ROC*"
   ]
  },
  {
   "cell_type": "code",
   "execution_count": null,
   "metadata": {},
   "outputs": [],
   "source": []
  }
 ],
 "metadata": {
  "ExecuteTimeLog": [
   {
    "duration": 360,
    "start_time": "2023-10-06T03:21:19.376Z"
   },
   {
    "duration": 96,
    "start_time": "2023-10-06T03:22:11.476Z"
   },
   {
    "duration": 73,
    "start_time": "2023-10-06T03:22:19.512Z"
   },
   {
    "duration": 9,
    "start_time": "2023-10-06T03:22:43.805Z"
   },
   {
    "duration": 9,
    "start_time": "2023-10-06T03:22:54.075Z"
   },
   {
    "duration": 20,
    "start_time": "2023-10-06T03:28:51.968Z"
   },
   {
    "duration": 73,
    "start_time": "2023-10-06T03:31:12.842Z"
   },
   {
    "duration": 14,
    "start_time": "2023-10-06T03:31:23.077Z"
   },
   {
    "duration": 4,
    "start_time": "2023-10-06T03:32:01.288Z"
   },
   {
    "duration": 521,
    "start_time": "2023-10-06T03:33:55.965Z"
   },
   {
    "duration": 96,
    "start_time": "2023-10-06T03:35:20.218Z"
   },
   {
    "duration": 18,
    "start_time": "2023-10-06T03:36:41.946Z"
   },
   {
    "duration": 4,
    "start_time": "2023-10-06T03:38:14.523Z"
   },
   {
    "duration": 4,
    "start_time": "2023-10-06T03:38:47.931Z"
   },
   {
    "duration": 12,
    "start_time": "2023-10-06T03:38:59.356Z"
   },
   {
    "duration": 6,
    "start_time": "2023-10-06T03:39:19.165Z"
   },
   {
    "duration": 16,
    "start_time": "2023-10-06T03:41:37.677Z"
   },
   {
    "duration": 7,
    "start_time": "2023-10-06T03:41:57.553Z"
   },
   {
    "duration": 7,
    "start_time": "2023-10-06T03:42:04.961Z"
   },
   {
    "duration": 5,
    "start_time": "2023-10-06T03:42:10.695Z"
   },
   {
    "duration": 6,
    "start_time": "2023-10-06T03:42:17.093Z"
   },
   {
    "duration": 5,
    "start_time": "2023-10-06T03:42:53.792Z"
   },
   {
    "duration": 7,
    "start_time": "2023-10-06T03:43:01.014Z"
   },
   {
    "duration": 107,
    "start_time": "2023-10-06T03:45:46.391Z"
   },
   {
    "duration": 109,
    "start_time": "2023-10-06T03:45:52.581Z"
   },
   {
    "duration": 161,
    "start_time": "2023-10-06T03:46:24.956Z"
   },
   {
    "duration": 116,
    "start_time": "2023-10-06T03:46:35.888Z"
   },
   {
    "duration": 13,
    "start_time": "2023-10-06T03:47:13.739Z"
   },
   {
    "duration": 3,
    "start_time": "2023-10-06T03:49:42.189Z"
   },
   {
    "duration": 10,
    "start_time": "2023-10-06T03:49:46.166Z"
   },
   {
    "duration": 6,
    "start_time": "2023-10-06T03:50:04.515Z"
   },
   {
    "duration": 3,
    "start_time": "2023-10-06T03:50:18.302Z"
   },
   {
    "duration": 25,
    "start_time": "2023-10-06T03:50:19.039Z"
   },
   {
    "duration": 28,
    "start_time": "2023-10-06T03:57:51.253Z"
   },
   {
    "duration": 14,
    "start_time": "2023-10-06T03:57:58.161Z"
   },
   {
    "duration": 12,
    "start_time": "2023-10-06T04:02:14.821Z"
   },
   {
    "duration": 505,
    "start_time": "2023-10-06T04:03:13.631Z"
   },
   {
    "duration": 10,
    "start_time": "2023-10-06T04:20:39.969Z"
   },
   {
    "duration": 15,
    "start_time": "2023-10-06T04:30:43.282Z"
   },
   {
    "duration": 980,
    "start_time": "2023-10-06T04:34:58.880Z"
   },
   {
    "duration": 55,
    "start_time": "2023-10-06T04:34:59.861Z"
   },
   {
    "duration": 9,
    "start_time": "2023-10-06T04:34:59.917Z"
   },
   {
    "duration": 10,
    "start_time": "2023-10-06T04:34:59.928Z"
   },
   {
    "duration": 37,
    "start_time": "2023-10-06T04:34:59.948Z"
   },
   {
    "duration": 374,
    "start_time": "2023-10-06T04:34:59.986Z"
   },
   {
    "duration": 7,
    "start_time": "2023-10-06T04:35:00.361Z"
   },
   {
    "duration": 7,
    "start_time": "2023-10-06T04:35:00.369Z"
   },
   {
    "duration": 113,
    "start_time": "2023-10-06T04:35:00.377Z"
   },
   {
    "duration": 41,
    "start_time": "2023-10-06T04:35:00.492Z"
   },
   {
    "duration": 48,
    "start_time": "2023-10-06T04:35:00.535Z"
   },
   {
    "duration": 102,
    "start_time": "2023-10-06T04:38:00.858Z"
   },
   {
    "duration": 4,
    "start_time": "2023-10-06T04:41:27.497Z"
   },
   {
    "duration": 9,
    "start_time": "2023-10-06T04:41:28.743Z"
   },
   {
    "duration": 10,
    "start_time": "2023-10-06T04:43:14.358Z"
   },
   {
    "duration": 12,
    "start_time": "2023-10-06T04:43:38.644Z"
   },
   {
    "duration": 4,
    "start_time": "2023-10-06T04:43:46.924Z"
   },
   {
    "duration": 2,
    "start_time": "2023-10-06T04:44:25.974Z"
   },
   {
    "duration": 4,
    "start_time": "2023-10-06T04:45:07.269Z"
   },
   {
    "duration": 3,
    "start_time": "2023-10-06T04:45:37.293Z"
   },
   {
    "duration": 3,
    "start_time": "2023-10-06T04:45:53.533Z"
   },
   {
    "duration": 3,
    "start_time": "2023-10-06T04:45:57.077Z"
   },
   {
    "duration": 5,
    "start_time": "2023-10-06T04:46:03.872Z"
   },
   {
    "duration": 264,
    "start_time": "2023-10-06T04:46:20.200Z"
   },
   {
    "duration": 1011,
    "start_time": "2023-10-06T09:08:11.586Z"
   },
   {
    "duration": 118,
    "start_time": "2023-10-06T09:08:12.598Z"
   },
   {
    "duration": 11,
    "start_time": "2023-10-06T09:08:12.718Z"
   },
   {
    "duration": 4,
    "start_time": "2023-10-06T09:08:12.732Z"
   },
   {
    "duration": 23,
    "start_time": "2023-10-06T09:08:12.737Z"
   },
   {
    "duration": 590,
    "start_time": "2023-10-06T09:08:12.761Z"
   },
   {
    "duration": 8,
    "start_time": "2023-10-06T09:08:13.353Z"
   },
   {
    "duration": 148,
    "start_time": "2023-10-06T09:08:13.363Z"
   },
   {
    "duration": 27,
    "start_time": "2023-10-06T09:08:13.512Z"
   },
   {
    "duration": 12,
    "start_time": "2023-10-06T09:08:13.542Z"
   },
   {
    "duration": 26,
    "start_time": "2023-10-06T09:08:13.556Z"
   },
   {
    "duration": 24,
    "start_time": "2023-10-06T09:08:13.584Z"
   },
   {
    "duration": 14,
    "start_time": "2023-10-06T09:08:13.609Z"
   },
   {
    "duration": 18,
    "start_time": "2023-10-06T09:08:13.625Z"
   },
   {
    "duration": 17,
    "start_time": "2023-10-06T09:08:13.645Z"
   },
   {
    "duration": 13,
    "start_time": "2023-10-06T09:08:13.664Z"
   },
   {
    "duration": 1048,
    "start_time": "2023-10-06T09:12:06.056Z"
   },
   {
    "duration": 72,
    "start_time": "2023-10-06T09:12:07.106Z"
   },
   {
    "duration": 23,
    "start_time": "2023-10-06T09:12:07.181Z"
   },
   {
    "duration": 100,
    "start_time": "2023-10-06T09:12:07.206Z"
   },
   {
    "duration": 55,
    "start_time": "2023-10-06T09:12:07.309Z"
   },
   {
    "duration": 389,
    "start_time": "2023-10-06T09:12:07.366Z"
   },
   {
    "duration": 6,
    "start_time": "2023-10-06T09:12:07.756Z"
   },
   {
    "duration": 201,
    "start_time": "2023-10-06T09:12:07.763Z"
   },
   {
    "duration": 300,
    "start_time": "2023-10-06T09:12:07.966Z"
   },
   {
    "duration": 93,
    "start_time": "2023-10-06T09:12:08.268Z"
   },
   {
    "duration": 162,
    "start_time": "2023-10-06T09:12:08.362Z"
   },
   {
    "duration": 26,
    "start_time": "2023-10-06T09:13:19.017Z"
   },
   {
    "duration": 4,
    "start_time": "2023-10-06T09:14:15.658Z"
   },
   {
    "duration": 9,
    "start_time": "2023-10-06T09:14:17.268Z"
   },
   {
    "duration": 4,
    "start_time": "2023-10-06T09:14:17.598Z"
   },
   {
    "duration": 4,
    "start_time": "2023-10-06T09:14:18.190Z"
   },
   {
    "duration": 4,
    "start_time": "2023-10-06T09:14:20.706Z"
   },
   {
    "duration": 5,
    "start_time": "2023-10-06T09:15:09.933Z"
   },
   {
    "duration": 21,
    "start_time": "2023-10-06T09:16:09.128Z"
   },
   {
    "duration": 59,
    "start_time": "2023-10-06T09:16:09.965Z"
   },
   {
    "duration": 11,
    "start_time": "2023-10-06T09:16:10.209Z"
   },
   {
    "duration": 4,
    "start_time": "2023-10-06T09:16:10.426Z"
   },
   {
    "duration": 19,
    "start_time": "2023-10-06T09:16:10.724Z"
   },
   {
    "duration": 135,
    "start_time": "2023-10-06T09:16:10.851Z"
   },
   {
    "duration": 6,
    "start_time": "2023-10-06T09:16:11.881Z"
   },
   {
    "duration": 4,
    "start_time": "2023-10-06T09:16:15.000Z"
   },
   {
    "duration": 9,
    "start_time": "2023-10-06T09:16:15.215Z"
   },
   {
    "duration": 13,
    "start_time": "2023-10-06T09:16:15.477Z"
   },
   {
    "duration": 21,
    "start_time": "2023-10-06T09:16:17.656Z"
   },
   {
    "duration": 22,
    "start_time": "2023-10-06T09:16:19.494Z"
   },
   {
    "duration": 4,
    "start_time": "2023-10-06T09:16:22.179Z"
   },
   {
    "duration": 9,
    "start_time": "2023-10-06T09:16:22.467Z"
   },
   {
    "duration": 4,
    "start_time": "2023-10-06T09:16:22.619Z"
   },
   {
    "duration": 4,
    "start_time": "2023-10-06T09:16:23.055Z"
   },
   {
    "duration": 5,
    "start_time": "2023-10-06T09:16:23.283Z"
   },
   {
    "duration": 6,
    "start_time": "2023-10-06T09:16:23.837Z"
   },
   {
    "duration": 112,
    "start_time": "2023-10-06T09:17:53.381Z"
   },
   {
    "duration": 19,
    "start_time": "2023-10-06T09:18:54.072Z"
   },
   {
    "duration": 17,
    "start_time": "2023-10-06T09:19:09.740Z"
   },
   {
    "duration": 1224,
    "start_time": "2023-10-06T09:19:52.023Z"
   },
   {
    "duration": 69,
    "start_time": "2023-10-06T09:19:53.249Z"
   },
   {
    "duration": 13,
    "start_time": "2023-10-06T09:19:53.320Z"
   },
   {
    "duration": 5,
    "start_time": "2023-10-06T09:19:53.335Z"
   },
   {
    "duration": 47,
    "start_time": "2023-10-06T09:19:53.342Z"
   },
   {
    "duration": 404,
    "start_time": "2023-10-06T09:19:53.391Z"
   },
   {
    "duration": 6,
    "start_time": "2023-10-06T09:19:53.797Z"
   },
   {
    "duration": 29,
    "start_time": "2023-10-06T09:19:53.804Z"
   },
   {
    "duration": 29,
    "start_time": "2023-10-06T09:19:53.835Z"
   },
   {
    "duration": 29,
    "start_time": "2023-10-06T09:19:53.865Z"
   },
   {
    "duration": 41,
    "start_time": "2023-10-06T09:19:53.895Z"
   },
   {
    "duration": 60,
    "start_time": "2023-10-06T09:19:53.937Z"
   },
   {
    "duration": 19,
    "start_time": "2023-10-06T09:19:53.999Z"
   },
   {
    "duration": 34,
    "start_time": "2023-10-06T09:19:54.021Z"
   },
   {
    "duration": 15,
    "start_time": "2023-10-06T09:19:54.056Z"
   },
   {
    "duration": 24,
    "start_time": "2023-10-06T09:19:54.073Z"
   },
   {
    "duration": 37,
    "start_time": "2023-10-06T09:19:54.099Z"
   },
   {
    "duration": 13,
    "start_time": "2023-10-06T09:19:54.137Z"
   },
   {
    "duration": 32,
    "start_time": "2023-10-06T09:19:54.152Z"
   },
   {
    "duration": 670,
    "start_time": "2023-10-06T09:20:00.963Z"
   },
   {
    "duration": 3,
    "start_time": "2023-10-06T09:26:11.922Z"
   },
   {
    "duration": 50,
    "start_time": "2023-10-06T09:27:14.156Z"
   },
   {
    "duration": 1106,
    "start_time": "2023-10-06T09:27:21.321Z"
   },
   {
    "duration": 64,
    "start_time": "2023-10-06T09:27:22.428Z"
   },
   {
    "duration": 11,
    "start_time": "2023-10-06T09:27:22.494Z"
   },
   {
    "duration": 37,
    "start_time": "2023-10-06T09:27:22.507Z"
   },
   {
    "duration": 59,
    "start_time": "2023-10-06T09:27:22.546Z"
   },
   {
    "duration": 450,
    "start_time": "2023-10-06T09:27:22.607Z"
   },
   {
    "duration": 6,
    "start_time": "2023-10-06T09:27:23.059Z"
   },
   {
    "duration": 25,
    "start_time": "2023-10-06T09:27:23.067Z"
   },
   {
    "duration": 5,
    "start_time": "2023-10-06T09:28:27.991Z"
   },
   {
    "duration": 9,
    "start_time": "2023-10-06T09:28:43.805Z"
   },
   {
    "duration": 5,
    "start_time": "2023-10-06T09:28:44.719Z"
   },
   {
    "duration": 9,
    "start_time": "2023-10-06T09:28:45.066Z"
   },
   {
    "duration": 12,
    "start_time": "2023-10-06T09:28:52.415Z"
   },
   {
    "duration": 10,
    "start_time": "2023-10-06T09:29:05.462Z"
   },
   {
    "duration": 65,
    "start_time": "2023-10-06T09:30:20.445Z"
   },
   {
    "duration": 3,
    "start_time": "2023-10-06T09:30:26.963Z"
   },
   {
    "duration": 66,
    "start_time": "2023-10-06T09:30:26.969Z"
   },
   {
    "duration": 13,
    "start_time": "2023-10-06T09:30:27.037Z"
   },
   {
    "duration": 26,
    "start_time": "2023-10-06T09:30:27.052Z"
   },
   {
    "duration": 72,
    "start_time": "2023-10-06T09:30:27.080Z"
   },
   {
    "duration": 132,
    "start_time": "2023-10-06T09:30:27.154Z"
   },
   {
    "duration": 6,
    "start_time": "2023-10-06T09:30:27.288Z"
   },
   {
    "duration": 23,
    "start_time": "2023-10-06T09:30:27.295Z"
   },
   {
    "duration": 3,
    "start_time": "2023-10-06T09:30:27.319Z"
   },
   {
    "duration": 12,
    "start_time": "2023-10-06T09:30:27.324Z"
   },
   {
    "duration": 32,
    "start_time": "2023-10-06T09:30:27.337Z"
   },
   {
    "duration": 18,
    "start_time": "2023-10-06T09:30:27.371Z"
   },
   {
    "duration": 9,
    "start_time": "2023-10-06T09:30:27.391Z"
   },
   {
    "duration": 26,
    "start_time": "2023-10-06T09:30:27.403Z"
   },
   {
    "duration": 12,
    "start_time": "2023-10-06T09:30:27.431Z"
   },
   {
    "duration": 6,
    "start_time": "2023-10-06T09:30:27.445Z"
   },
   {
    "duration": 10,
    "start_time": "2023-10-06T09:30:27.452Z"
   },
   {
    "duration": 10,
    "start_time": "2023-10-06T09:30:27.463Z"
   },
   {
    "duration": 21,
    "start_time": "2023-10-06T09:30:27.474Z"
   },
   {
    "duration": 21,
    "start_time": "2023-10-06T09:30:27.496Z"
   },
   {
    "duration": 32,
    "start_time": "2023-10-06T09:34:12.263Z"
   },
   {
    "duration": 28,
    "start_time": "2023-10-06T09:34:35.723Z"
   },
   {
    "duration": 22,
    "start_time": "2023-10-06T09:34:37.643Z"
   },
   {
    "duration": 12,
    "start_time": "2023-10-06T09:35:40.810Z"
   },
   {
    "duration": 21,
    "start_time": "2023-10-06T09:45:31.422Z"
   },
   {
    "duration": 1101,
    "start_time": "2023-10-06T09:45:42.243Z"
   },
   {
    "duration": 66,
    "start_time": "2023-10-06T09:45:43.346Z"
   },
   {
    "duration": 340,
    "start_time": "2023-10-06T09:45:43.413Z"
   },
   {
    "duration": 119,
    "start_time": "2023-10-06T09:45:43.754Z"
   },
   {
    "duration": 102,
    "start_time": "2023-10-06T09:45:43.876Z"
   },
   {
    "duration": 463,
    "start_time": "2023-10-06T09:45:43.979Z"
   },
   {
    "duration": 6,
    "start_time": "2023-10-06T09:45:44.443Z"
   },
   {
    "duration": 17,
    "start_time": "2023-10-06T09:45:44.451Z"
   },
   {
    "duration": 5,
    "start_time": "2023-10-06T09:45:44.469Z"
   },
   {
    "duration": 21,
    "start_time": "2023-10-06T09:45:44.475Z"
   },
   {
    "duration": 29,
    "start_time": "2023-10-06T09:45:44.498Z"
   },
   {
    "duration": 20,
    "start_time": "2023-10-06T09:45:44.529Z"
   },
   {
    "duration": 12,
    "start_time": "2023-10-06T09:45:44.551Z"
   },
   {
    "duration": 6,
    "start_time": "2023-10-06T09:45:44.565Z"
   },
   {
    "duration": 10,
    "start_time": "2023-10-06T09:45:44.573Z"
   },
   {
    "duration": 16,
    "start_time": "2023-10-06T09:45:44.585Z"
   },
   {
    "duration": 22,
    "start_time": "2023-10-06T09:45:44.603Z"
   },
   {
    "duration": 14,
    "start_time": "2023-10-06T09:45:44.627Z"
   },
   {
    "duration": 32,
    "start_time": "2023-10-06T09:45:44.643Z"
   },
   {
    "duration": 11,
    "start_time": "2023-10-06T09:45:44.676Z"
   },
   {
    "duration": 25,
    "start_time": "2023-10-06T09:45:47.442Z"
   },
   {
    "duration": 23,
    "start_time": "2023-10-06T09:46:02.291Z"
   },
   {
    "duration": 14,
    "start_time": "2023-10-06T09:46:04.964Z"
   },
   {
    "duration": 40,
    "start_time": "2023-10-06T09:48:20.090Z"
   },
   {
    "duration": 39,
    "start_time": "2023-10-06T09:48:57.408Z"
   },
   {
    "duration": 3,
    "start_time": "2023-10-06T09:49:26.945Z"
   },
   {
    "duration": 1063,
    "start_time": "2023-10-06T09:49:34.372Z"
   },
   {
    "duration": 66,
    "start_time": "2023-10-06T09:49:35.437Z"
   },
   {
    "duration": 89,
    "start_time": "2023-10-06T09:49:35.504Z"
   },
   {
    "duration": 101,
    "start_time": "2023-10-06T09:49:35.595Z"
   },
   {
    "duration": 113,
    "start_time": "2023-10-06T09:49:35.698Z"
   },
   {
    "duration": 522,
    "start_time": "2023-10-06T09:49:35.813Z"
   },
   {
    "duration": 6,
    "start_time": "2023-10-06T09:49:36.337Z"
   },
   {
    "duration": 44,
    "start_time": "2023-10-06T09:49:36.344Z"
   },
   {
    "duration": 42,
    "start_time": "2023-10-06T09:49:36.390Z"
   },
   {
    "duration": 18,
    "start_time": "2023-10-06T09:49:36.434Z"
   },
   {
    "duration": 35,
    "start_time": "2023-10-06T09:49:36.454Z"
   },
   {
    "duration": 55,
    "start_time": "2023-10-06T09:49:36.491Z"
   },
   {
    "duration": 37,
    "start_time": "2023-10-06T09:49:36.548Z"
   },
   {
    "duration": 48,
    "start_time": "2023-10-06T09:49:36.587Z"
   },
   {
    "duration": 13,
    "start_time": "2023-10-06T09:49:36.637Z"
   },
   {
    "duration": 22,
    "start_time": "2023-10-06T09:49:36.651Z"
   },
   {
    "duration": 12,
    "start_time": "2023-10-06T09:49:36.675Z"
   },
   {
    "duration": 20,
    "start_time": "2023-10-06T09:49:36.689Z"
   },
   {
    "duration": 42,
    "start_time": "2023-10-06T09:49:36.711Z"
   },
   {
    "duration": 14,
    "start_time": "2023-10-06T09:49:36.755Z"
   },
   {
    "duration": 70,
    "start_time": "2023-10-06T09:49:36.771Z"
   },
   {
    "duration": 40,
    "start_time": "2023-10-06T09:50:13.003Z"
   },
   {
    "duration": 3,
    "start_time": "2023-10-06T09:53:47.233Z"
   },
   {
    "duration": 5,
    "start_time": "2023-10-06T09:53:56.246Z"
   },
   {
    "duration": 5,
    "start_time": "2023-10-06T09:54:21.667Z"
   },
   {
    "duration": 6,
    "start_time": "2023-10-06T09:57:17.351Z"
   },
   {
    "duration": 7,
    "start_time": "2023-10-06T09:58:20.612Z"
   },
   {
    "duration": 3,
    "start_time": "2023-10-06T10:01:03.749Z"
   },
   {
    "duration": 27,
    "start_time": "2023-10-06T10:01:03.920Z"
   },
   {
    "duration": 1130,
    "start_time": "2023-10-06T10:04:26.835Z"
   },
   {
    "duration": 66,
    "start_time": "2023-10-06T10:04:27.967Z"
   },
   {
    "duration": 14,
    "start_time": "2023-10-06T10:04:28.035Z"
   },
   {
    "duration": 53,
    "start_time": "2023-10-06T10:04:28.051Z"
   },
   {
    "duration": 41,
    "start_time": "2023-10-06T10:04:28.107Z"
   },
   {
    "duration": 409,
    "start_time": "2023-10-06T10:04:28.149Z"
   },
   {
    "duration": 7,
    "start_time": "2023-10-06T10:04:28.559Z"
   },
   {
    "duration": 130,
    "start_time": "2023-10-06T10:04:28.567Z"
   },
   {
    "duration": 24,
    "start_time": "2023-10-06T10:04:28.699Z"
   },
   {
    "duration": 36,
    "start_time": "2023-10-06T10:04:28.726Z"
   },
   {
    "duration": 64,
    "start_time": "2023-10-06T10:04:28.764Z"
   },
   {
    "duration": 27,
    "start_time": "2023-10-06T10:04:28.830Z"
   },
   {
    "duration": 56,
    "start_time": "2023-10-06T10:04:28.858Z"
   },
   {
    "duration": 53,
    "start_time": "2023-10-06T10:04:28.916Z"
   },
   {
    "duration": 54,
    "start_time": "2023-10-06T10:04:28.971Z"
   },
   {
    "duration": 13,
    "start_time": "2023-10-06T10:04:29.026Z"
   },
   {
    "duration": 14,
    "start_time": "2023-10-06T10:04:29.040Z"
   },
   {
    "duration": 88,
    "start_time": "2023-10-06T10:04:29.056Z"
   },
   {
    "duration": 102,
    "start_time": "2023-10-06T10:04:29.145Z"
   },
   {
    "duration": 20,
    "start_time": "2023-10-06T10:04:29.249Z"
   },
   {
    "duration": 63,
    "start_time": "2023-10-06T10:04:29.271Z"
   },
   {
    "duration": 49,
    "start_time": "2023-10-06T10:04:29.335Z"
   },
   {
    "duration": 136,
    "start_time": "2023-10-06T10:04:29.385Z"
   },
   {
    "duration": 6,
    "start_time": "2023-10-06T10:05:07.112Z"
   },
   {
    "duration": 1027,
    "start_time": "2023-10-07T04:31:12.575Z"
   },
   {
    "duration": 128,
    "start_time": "2023-10-07T04:31:13.605Z"
   },
   {
    "duration": 26,
    "start_time": "2023-10-07T04:31:13.734Z"
   },
   {
    "duration": 12,
    "start_time": "2023-10-07T04:31:13.771Z"
   },
   {
    "duration": 17,
    "start_time": "2023-10-07T04:31:13.784Z"
   },
   {
    "duration": 553,
    "start_time": "2023-10-07T04:31:13.802Z"
   },
   {
    "duration": 12,
    "start_time": "2023-10-07T04:31:14.356Z"
   },
   {
    "duration": 25,
    "start_time": "2023-10-07T04:31:14.369Z"
   },
   {
    "duration": 4,
    "start_time": "2023-10-07T04:31:14.395Z"
   },
   {
    "duration": 10,
    "start_time": "2023-10-07T04:31:14.400Z"
   },
   {
    "duration": 17,
    "start_time": "2023-10-07T04:31:14.411Z"
   },
   {
    "duration": 57,
    "start_time": "2023-10-07T04:31:14.429Z"
   },
   {
    "duration": 23,
    "start_time": "2023-10-07T04:31:14.488Z"
   },
   {
    "duration": 4,
    "start_time": "2023-10-07T04:31:14.514Z"
   },
   {
    "duration": 41,
    "start_time": "2023-10-07T04:31:14.519Z"
   },
   {
    "duration": 15,
    "start_time": "2023-10-07T04:31:14.567Z"
   },
   {
    "duration": 7,
    "start_time": "2023-10-07T04:31:14.583Z"
   },
   {
    "duration": 14,
    "start_time": "2023-10-07T04:31:14.592Z"
   },
   {
    "duration": 29,
    "start_time": "2023-10-07T04:31:14.607Z"
   },
   {
    "duration": 21,
    "start_time": "2023-10-07T04:31:14.637Z"
   },
   {
    "duration": 46,
    "start_time": "2023-10-07T04:31:14.659Z"
   },
   {
    "duration": 3,
    "start_time": "2023-10-07T04:31:14.706Z"
   },
   {
    "duration": 50,
    "start_time": "2023-10-07T04:31:14.710Z"
   },
   {
    "duration": 15,
    "start_time": "2023-10-07T04:31:14.763Z"
   },
   {
    "duration": 8,
    "start_time": "2023-10-07T04:31:25.772Z"
   },
   {
    "duration": 27,
    "start_time": "2023-10-07T04:38:56.584Z"
   },
   {
    "duration": 53,
    "start_time": "2023-10-07T04:40:35.219Z"
   },
   {
    "duration": 5,
    "start_time": "2023-10-07T04:40:58.188Z"
   },
   {
    "duration": 9,
    "start_time": "2023-10-07T04:41:01.271Z"
   },
   {
    "duration": 54,
    "start_time": "2023-10-07T04:41:02.595Z"
   },
   {
    "duration": 50,
    "start_time": "2023-10-07T04:41:13.471Z"
   },
   {
    "duration": 20,
    "start_time": "2023-10-07T04:53:26.748Z"
   },
   {
    "duration": 124,
    "start_time": "2023-10-07T04:57:19.459Z"
   },
   {
    "duration": 16,
    "start_time": "2023-10-07T04:57:25.199Z"
   },
   {
    "duration": 19,
    "start_time": "2023-10-07T04:57:25.561Z"
   },
   {
    "duration": 3,
    "start_time": "2023-10-07T04:57:48.626Z"
   },
   {
    "duration": 74,
    "start_time": "2023-10-07T04:57:48.811Z"
   },
   {
    "duration": 25,
    "start_time": "2023-10-07T04:57:49.051Z"
   },
   {
    "duration": 1046,
    "start_time": "2023-10-07T04:58:02.172Z"
   },
   {
    "duration": 73,
    "start_time": "2023-10-07T04:58:03.219Z"
   },
   {
    "duration": 10,
    "start_time": "2023-10-07T04:58:03.293Z"
   },
   {
    "duration": 4,
    "start_time": "2023-10-07T04:58:03.304Z"
   },
   {
    "duration": 50,
    "start_time": "2023-10-07T04:58:03.310Z"
   },
   {
    "duration": 362,
    "start_time": "2023-10-07T04:58:03.362Z"
   },
   {
    "duration": 5,
    "start_time": "2023-10-07T04:58:03.726Z"
   },
   {
    "duration": 35,
    "start_time": "2023-10-07T04:58:03.733Z"
   },
   {
    "duration": 16,
    "start_time": "2023-10-07T04:58:03.769Z"
   },
   {
    "duration": 27,
    "start_time": "2023-10-07T04:58:03.786Z"
   },
   {
    "duration": 70,
    "start_time": "2023-10-07T04:58:03.814Z"
   },
   {
    "duration": 16,
    "start_time": "2023-10-07T04:58:03.886Z"
   },
   {
    "duration": 14,
    "start_time": "2023-10-07T04:58:03.903Z"
   },
   {
    "duration": 4,
    "start_time": "2023-10-07T04:58:03.920Z"
   },
   {
    "duration": 43,
    "start_time": "2023-10-07T04:58:03.925Z"
   },
   {
    "duration": 11,
    "start_time": "2023-10-07T04:58:03.969Z"
   },
   {
    "duration": 16,
    "start_time": "2023-10-07T04:58:03.981Z"
   },
   {
    "duration": 13,
    "start_time": "2023-10-07T04:58:03.998Z"
   },
   {
    "duration": 22,
    "start_time": "2023-10-07T04:58:04.012Z"
   },
   {
    "duration": 33,
    "start_time": "2023-10-07T04:58:04.035Z"
   },
   {
    "duration": 42,
    "start_time": "2023-10-07T04:58:04.069Z"
   },
   {
    "duration": 2,
    "start_time": "2023-10-07T04:58:04.112Z"
   },
   {
    "duration": 5,
    "start_time": "2023-10-07T04:58:04.115Z"
   },
   {
    "duration": 12,
    "start_time": "2023-10-07T04:58:04.121Z"
   },
   {
    "duration": 50,
    "start_time": "2023-10-07T04:58:04.134Z"
   },
   {
    "duration": 29,
    "start_time": "2023-10-07T04:58:04.186Z"
   },
   {
    "duration": 20,
    "start_time": "2023-10-07T04:58:04.216Z"
   },
   {
    "duration": 87,
    "start_time": "2023-10-07T04:58:04.237Z"
   },
   {
    "duration": 91,
    "start_time": "2023-10-07T04:59:02.980Z"
   },
   {
    "duration": 81,
    "start_time": "2023-10-07T05:00:05.405Z"
   },
   {
    "duration": 23,
    "start_time": "2023-10-07T05:01:29.757Z"
   },
   {
    "duration": 991,
    "start_time": "2023-10-07T05:01:43.165Z"
   },
   {
    "duration": 60,
    "start_time": "2023-10-07T05:01:44.157Z"
   },
   {
    "duration": 10,
    "start_time": "2023-10-07T05:01:44.218Z"
   },
   {
    "duration": 31,
    "start_time": "2023-10-07T05:01:44.229Z"
   },
   {
    "duration": 30,
    "start_time": "2023-10-07T05:01:44.262Z"
   },
   {
    "duration": 363,
    "start_time": "2023-10-07T05:01:44.293Z"
   },
   {
    "duration": 11,
    "start_time": "2023-10-07T05:01:44.657Z"
   },
   {
    "duration": 21,
    "start_time": "2023-10-07T05:01:44.669Z"
   },
   {
    "duration": 13,
    "start_time": "2023-10-07T05:01:44.692Z"
   },
   {
    "duration": 5,
    "start_time": "2023-10-07T05:01:44.706Z"
   },
   {
    "duration": 10,
    "start_time": "2023-10-07T05:01:44.711Z"
   },
   {
    "duration": 14,
    "start_time": "2023-10-07T05:01:44.722Z"
   },
   {
    "duration": 34,
    "start_time": "2023-10-07T05:01:44.738Z"
   },
   {
    "duration": 12,
    "start_time": "2023-10-07T05:01:44.774Z"
   },
   {
    "duration": 8,
    "start_time": "2023-10-07T05:01:44.787Z"
   },
   {
    "duration": 5,
    "start_time": "2023-10-07T05:01:44.796Z"
   },
   {
    "duration": 4,
    "start_time": "2023-10-07T05:01:44.802Z"
   },
   {
    "duration": 6,
    "start_time": "2023-10-07T05:01:44.807Z"
   },
   {
    "duration": 24,
    "start_time": "2023-10-07T05:01:44.814Z"
   },
   {
    "duration": 13,
    "start_time": "2023-10-07T05:01:44.839Z"
   },
   {
    "duration": 53,
    "start_time": "2023-10-07T05:01:44.853Z"
   },
   {
    "duration": 2,
    "start_time": "2023-10-07T05:01:44.907Z"
   },
   {
    "duration": 23,
    "start_time": "2023-10-07T05:01:44.910Z"
   },
   {
    "duration": 15,
    "start_time": "2023-10-07T05:01:44.934Z"
   },
   {
    "duration": 9,
    "start_time": "2023-10-07T05:01:44.950Z"
   },
   {
    "duration": 28,
    "start_time": "2023-10-07T05:01:44.960Z"
   },
   {
    "duration": 44,
    "start_time": "2023-10-07T05:01:44.989Z"
   },
   {
    "duration": 1588,
    "start_time": "2023-10-07T05:01:59.998Z"
   },
   {
    "duration": 1634,
    "start_time": "2023-10-07T05:03:12.050Z"
   },
   {
    "duration": 1734,
    "start_time": "2023-10-07T05:03:47.982Z"
   },
   {
    "duration": 1688,
    "start_time": "2023-10-07T05:03:54.680Z"
   },
   {
    "duration": 1607,
    "start_time": "2023-10-07T05:04:16.185Z"
   },
   {
    "duration": 16144,
    "start_time": "2023-10-07T05:04:20.836Z"
   },
   {
    "duration": 1591,
    "start_time": "2023-10-07T05:05:25.802Z"
   },
   {
    "duration": 1609,
    "start_time": "2023-10-07T05:06:08.181Z"
   },
   {
    "duration": 1696,
    "start_time": "2023-10-07T05:06:20.481Z"
   },
   {
    "duration": 1622,
    "start_time": "2023-10-07T05:06:30.464Z"
   },
   {
    "duration": 1639,
    "start_time": "2023-10-07T05:07:13.384Z"
   },
   {
    "duration": 73,
    "start_time": "2023-10-07T05:08:13.663Z"
   },
   {
    "duration": 1734,
    "start_time": "2023-10-07T05:09:39.051Z"
   },
   {
    "duration": 1797,
    "start_time": "2023-10-07T05:10:24.075Z"
   },
   {
    "duration": 1522,
    "start_time": "2023-10-07T05:10:49.544Z"
   },
   {
    "duration": 807,
    "start_time": "2023-10-07T05:11:21.712Z"
   },
   {
    "duration": 2,
    "start_time": "2023-10-07T05:11:26.128Z"
   },
   {
    "duration": 5,
    "start_time": "2023-10-07T05:11:26.492Z"
   },
   {
    "duration": 1079,
    "start_time": "2023-10-07T05:11:59.277Z"
   },
   {
    "duration": 59,
    "start_time": "2023-10-07T05:12:00.357Z"
   },
   {
    "duration": 10,
    "start_time": "2023-10-07T05:12:00.417Z"
   },
   {
    "duration": 105,
    "start_time": "2023-10-07T05:12:00.428Z"
   },
   {
    "duration": 151,
    "start_time": "2023-10-07T05:12:00.535Z"
   },
   {
    "duration": 381,
    "start_time": "2023-10-07T05:12:00.687Z"
   },
   {
    "duration": 14,
    "start_time": "2023-10-07T05:12:01.070Z"
   },
   {
    "duration": 103,
    "start_time": "2023-10-07T05:12:01.087Z"
   },
   {
    "duration": 44,
    "start_time": "2023-10-07T05:12:01.192Z"
   },
   {
    "duration": 151,
    "start_time": "2023-10-07T05:12:01.237Z"
   },
   {
    "duration": 159,
    "start_time": "2023-10-07T05:12:01.389Z"
   },
   {
    "duration": 55,
    "start_time": "2023-10-07T05:12:01.549Z"
   },
   {
    "duration": 71,
    "start_time": "2023-10-07T05:12:01.605Z"
   },
   {
    "duration": 26,
    "start_time": "2023-10-07T05:12:01.678Z"
   },
   {
    "duration": 54,
    "start_time": "2023-10-07T05:12:01.706Z"
   },
   {
    "duration": 25,
    "start_time": "2023-10-07T05:12:01.761Z"
   },
   {
    "duration": 35,
    "start_time": "2023-10-07T05:12:01.787Z"
   },
   {
    "duration": 64,
    "start_time": "2023-10-07T05:12:01.823Z"
   },
   {
    "duration": 38,
    "start_time": "2023-10-07T05:12:01.888Z"
   },
   {
    "duration": 37,
    "start_time": "2023-10-07T05:12:01.927Z"
   },
   {
    "duration": 847,
    "start_time": "2023-10-07T05:12:01.965Z"
   },
   {
    "duration": 821,
    "start_time": "2023-10-07T05:12:07.653Z"
   },
   {
    "duration": 3,
    "start_time": "2023-10-07T05:12:09.997Z"
   },
   {
    "duration": 5,
    "start_time": "2023-10-07T05:12:10.319Z"
   },
   {
    "duration": 3,
    "start_time": "2023-10-07T05:12:30.606Z"
   },
   {
    "duration": 109,
    "start_time": "2023-10-07T05:12:30.981Z"
   },
   {
    "duration": 4,
    "start_time": "2023-10-07T05:12:49.199Z"
   },
   {
    "duration": 11,
    "start_time": "2023-10-07T05:13:27.804Z"
   },
   {
    "duration": 3,
    "start_time": "2023-10-07T05:13:31.031Z"
   },
   {
    "duration": 14,
    "start_time": "2023-10-07T05:13:31.671Z"
   },
   {
    "duration": 5,
    "start_time": "2023-10-07T05:13:34.382Z"
   },
   {
    "duration": 6,
    "start_time": "2023-10-07T05:17:26.626Z"
   },
   {
    "duration": 7,
    "start_time": "2023-10-07T05:17:50.618Z"
   },
   {
    "duration": 7,
    "start_time": "2023-10-07T05:17:55.425Z"
   },
   {
    "duration": 4,
    "start_time": "2023-10-07T05:18:02.226Z"
   },
   {
    "duration": 82,
    "start_time": "2023-10-07T05:18:02.232Z"
   },
   {
    "duration": 13,
    "start_time": "2023-10-07T05:18:02.315Z"
   },
   {
    "duration": 55,
    "start_time": "2023-10-07T05:18:02.329Z"
   },
   {
    "duration": 40,
    "start_time": "2023-10-07T05:18:02.389Z"
   },
   {
    "duration": 140,
    "start_time": "2023-10-07T05:18:02.431Z"
   },
   {
    "duration": 7,
    "start_time": "2023-10-07T05:18:02.575Z"
   },
   {
    "duration": 17,
    "start_time": "2023-10-07T05:18:02.587Z"
   },
   {
    "duration": 19,
    "start_time": "2023-10-07T05:18:02.606Z"
   },
   {
    "duration": 49,
    "start_time": "2023-10-07T05:18:02.627Z"
   },
   {
    "duration": 12,
    "start_time": "2023-10-07T05:18:02.677Z"
   },
   {
    "duration": 27,
    "start_time": "2023-10-07T05:18:02.691Z"
   },
   {
    "duration": 51,
    "start_time": "2023-10-07T05:18:02.719Z"
   },
   {
    "duration": 18,
    "start_time": "2023-10-07T05:18:02.774Z"
   },
   {
    "duration": 12,
    "start_time": "2023-10-07T05:18:02.793Z"
   },
   {
    "duration": 8,
    "start_time": "2023-10-07T05:18:02.807Z"
   },
   {
    "duration": 4,
    "start_time": "2023-10-07T05:18:02.816Z"
   },
   {
    "duration": 31,
    "start_time": "2023-10-07T05:18:02.821Z"
   },
   {
    "duration": 28,
    "start_time": "2023-10-07T05:18:02.853Z"
   },
   {
    "duration": 19,
    "start_time": "2023-10-07T05:18:02.882Z"
   },
   {
    "duration": 889,
    "start_time": "2023-10-07T05:18:02.903Z"
   },
   {
    "duration": 2,
    "start_time": "2023-10-07T05:18:03.795Z"
   },
   {
    "duration": 25,
    "start_time": "2023-10-07T05:18:03.799Z"
   },
   {
    "duration": 55,
    "start_time": "2023-10-07T05:18:03.825Z"
   },
   {
    "duration": 5,
    "start_time": "2023-10-07T05:18:03.881Z"
   },
   {
    "duration": 31,
    "start_time": "2023-10-07T05:18:03.888Z"
   },
   {
    "duration": 1628,
    "start_time": "2023-10-07T05:18:03.920Z"
   },
   {
    "duration": 8,
    "start_time": "2023-10-07T05:18:05.550Z"
   },
   {
    "duration": 1574,
    "start_time": "2023-10-07T09:46:44.199Z"
   },
   {
    "duration": 111,
    "start_time": "2023-10-07T09:46:45.781Z"
   },
   {
    "duration": 11,
    "start_time": "2023-10-07T09:46:45.893Z"
   },
   {
    "duration": 7,
    "start_time": "2023-10-07T09:46:45.905Z"
   },
   {
    "duration": 63,
    "start_time": "2023-10-07T09:46:45.914Z"
   },
   {
    "duration": 600,
    "start_time": "2023-10-07T09:46:45.978Z"
   },
   {
    "duration": 5,
    "start_time": "2023-10-07T09:46:46.581Z"
   },
   {
    "duration": 18,
    "start_time": "2023-10-07T09:46:46.588Z"
   },
   {
    "duration": 4,
    "start_time": "2023-10-07T09:46:46.607Z"
   },
   {
    "duration": 6,
    "start_time": "2023-10-07T09:46:46.612Z"
   },
   {
    "duration": 9,
    "start_time": "2023-10-07T09:46:46.619Z"
   },
   {
    "duration": 36,
    "start_time": "2023-10-07T09:46:46.629Z"
   },
   {
    "duration": 19,
    "start_time": "2023-10-07T09:46:46.666Z"
   },
   {
    "duration": 11,
    "start_time": "2023-10-07T09:46:46.688Z"
   },
   {
    "duration": 5,
    "start_time": "2023-10-07T09:46:46.701Z"
   },
   {
    "duration": 4,
    "start_time": "2023-10-07T09:46:46.707Z"
   },
   {
    "duration": 8,
    "start_time": "2023-10-07T09:46:46.712Z"
   },
   {
    "duration": 3,
    "start_time": "2023-10-07T09:46:46.721Z"
   },
   {
    "duration": 48,
    "start_time": "2023-10-07T09:46:46.726Z"
   },
   {
    "duration": 5,
    "start_time": "2023-10-07T09:46:46.776Z"
   },
   {
    "duration": 795,
    "start_time": "2023-10-07T09:46:46.782Z"
   },
   {
    "duration": 2,
    "start_time": "2023-10-07T09:46:47.578Z"
   },
   {
    "duration": 9,
    "start_time": "2023-10-07T09:46:47.581Z"
   },
   {
    "duration": 5,
    "start_time": "2023-10-07T09:46:47.591Z"
   },
   {
    "duration": 5,
    "start_time": "2023-10-07T09:46:47.597Z"
   },
   {
    "duration": 23,
    "start_time": "2023-10-07T09:46:47.603Z"
   },
   {
    "duration": 1509,
    "start_time": "2023-10-07T09:46:47.627Z"
   },
   {
    "duration": 1548,
    "start_time": "2023-10-07T09:51:34.920Z"
   },
   {
    "duration": 7,
    "start_time": "2023-10-07T09:52:47.457Z"
   },
   {
    "duration": 7,
    "start_time": "2023-10-07T09:52:47.815Z"
   },
   {
    "duration": 1085,
    "start_time": "2023-10-07T09:52:48.451Z"
   },
   {
    "duration": 7,
    "start_time": "2023-10-07T09:53:08.806Z"
   },
   {
    "duration": 1002,
    "start_time": "2023-10-07T09:53:09.136Z"
   },
   {
    "duration": 23,
    "start_time": "2023-10-07T09:53:13.949Z"
   },
   {
    "duration": 1491,
    "start_time": "2023-10-07T09:53:14.275Z"
   },
   {
    "duration": 10,
    "start_time": "2023-10-07T09:53:20.475Z"
   },
   {
    "duration": 1073,
    "start_time": "2023-10-07T09:53:21.064Z"
   },
   {
    "duration": 1085,
    "start_time": "2023-10-07T09:55:16.283Z"
   },
   {
    "duration": 28,
    "start_time": "2023-10-07T09:55:31.128Z"
   },
   {
    "duration": 1841,
    "start_time": "2023-10-07T09:55:31.864Z"
   },
   {
    "duration": 1794,
    "start_time": "2023-10-07T09:55:34.866Z"
   },
   {
    "duration": 7,
    "start_time": "2023-10-07T09:55:41.761Z"
   },
   {
    "duration": 8,
    "start_time": "2023-10-07T09:55:42.605Z"
   },
   {
    "duration": 918,
    "start_time": "2023-10-07T09:55:43.337Z"
   },
   {
    "duration": 902,
    "start_time": "2023-10-07T09:55:45.047Z"
   },
   {
    "duration": 28,
    "start_time": "2023-10-07T09:55:54.233Z"
   },
   {
    "duration": 1054,
    "start_time": "2023-10-07T09:55:54.881Z"
   },
   {
    "duration": 1144,
    "start_time": "2023-10-07T09:55:58.135Z"
   },
   {
    "duration": 71,
    "start_time": "2023-10-07T09:56:31.558Z"
   },
   {
    "duration": 1067,
    "start_time": "2023-10-07T09:56:36.677Z"
   },
   {
    "duration": 1080,
    "start_time": "2023-10-07T09:56:43.385Z"
   },
   {
    "duration": 1055,
    "start_time": "2023-10-07T09:56:49.478Z"
   },
   {
    "duration": 1088,
    "start_time": "2023-10-07T09:56:56.831Z"
   },
   {
    "duration": 1099,
    "start_time": "2023-10-07T09:57:05.948Z"
   },
   {
    "duration": 4,
    "start_time": "2023-10-07T09:59:53.021Z"
   },
   {
    "duration": 20,
    "start_time": "2023-10-07T10:00:06.560Z"
   },
   {
    "duration": 7,
    "start_time": "2023-10-07T10:00:10.705Z"
   },
   {
    "duration": 305,
    "start_time": "2023-10-07T10:00:48.803Z"
   },
   {
    "duration": 1246,
    "start_time": "2023-10-09T12:28:00.825Z"
   },
   {
    "duration": 186,
    "start_time": "2023-10-09T12:28:02.073Z"
   },
   {
    "duration": 12,
    "start_time": "2023-10-09T12:28:02.261Z"
   },
   {
    "duration": 90,
    "start_time": "2023-10-09T12:28:02.275Z"
   },
   {
    "duration": 74,
    "start_time": "2023-10-09T12:28:02.368Z"
   },
   {
    "duration": 633,
    "start_time": "2023-10-09T12:28:02.444Z"
   },
   {
    "duration": 7,
    "start_time": "2023-10-09T12:28:03.080Z"
   },
   {
    "duration": 39,
    "start_time": "2023-10-09T12:28:03.089Z"
   },
   {
    "duration": 44,
    "start_time": "2023-10-09T12:28:03.129Z"
   },
   {
    "duration": 36,
    "start_time": "2023-10-09T12:28:03.174Z"
   },
   {
    "duration": 45,
    "start_time": "2023-10-09T12:28:03.211Z"
   },
   {
    "duration": 37,
    "start_time": "2023-10-09T12:28:03.258Z"
   },
   {
    "duration": 33,
    "start_time": "2023-10-09T12:28:03.297Z"
   },
   {
    "duration": 26,
    "start_time": "2023-10-09T12:28:03.333Z"
   },
   {
    "duration": 17,
    "start_time": "2023-10-09T12:28:03.361Z"
   },
   {
    "duration": 19,
    "start_time": "2023-10-09T12:28:03.380Z"
   },
   {
    "duration": 29,
    "start_time": "2023-10-09T12:28:03.401Z"
   },
   {
    "duration": 40,
    "start_time": "2023-10-09T12:28:03.432Z"
   },
   {
    "duration": 40,
    "start_time": "2023-10-09T12:28:03.473Z"
   },
   {
    "duration": 8,
    "start_time": "2023-10-09T12:28:03.514Z"
   },
   {
    "duration": 841,
    "start_time": "2023-10-09T12:28:03.523Z"
   },
   {
    "duration": 4,
    "start_time": "2023-10-09T12:28:04.366Z"
   },
   {
    "duration": 24,
    "start_time": "2023-10-09T12:28:04.371Z"
   },
   {
    "duration": 15,
    "start_time": "2023-10-09T12:28:04.397Z"
   },
   {
    "duration": 14,
    "start_time": "2023-10-09T12:28:04.415Z"
   },
   {
    "duration": 39,
    "start_time": "2023-10-09T12:28:04.431Z"
   },
   {
    "duration": 1151,
    "start_time": "2023-10-09T12:28:04.471Z"
   },
   {
    "duration": 4,
    "start_time": "2023-10-09T12:28:05.623Z"
   },
   {
    "duration": 42,
    "start_time": "2023-10-09T12:28:05.629Z"
   },
   {
    "duration": 314,
    "start_time": "2023-10-09T12:28:05.672Z"
   },
   {
    "duration": 898,
    "start_time": "2023-10-09T12:33:21.204Z"
   },
   {
    "duration": 913,
    "start_time": "2023-10-09T12:33:31.611Z"
   },
   {
    "duration": 4,
    "start_time": "2023-10-09T12:45:58.387Z"
   },
   {
    "duration": 40,
    "start_time": "2023-10-09T12:48:18.255Z"
   },
   {
    "duration": 42,
    "start_time": "2023-10-09T12:48:48.933Z"
   },
   {
    "duration": 51,
    "start_time": "2023-10-09T12:48:54.134Z"
   },
   {
    "duration": 5,
    "start_time": "2023-10-09T12:48:54.773Z"
   },
   {
    "duration": 9,
    "start_time": "2023-10-09T12:48:55.142Z"
   },
   {
    "duration": 288,
    "start_time": "2023-10-09T12:48:55.484Z"
   },
   {
    "duration": 38,
    "start_time": "2023-10-09T12:48:56.060Z"
   },
   {
    "duration": 101,
    "start_time": "2023-10-09T12:50:58.521Z"
   },
   {
    "duration": 5,
    "start_time": "2023-10-09T12:51:17.927Z"
   },
   {
    "duration": 1094,
    "start_time": "2023-10-09T12:51:29.189Z"
   },
   {
    "duration": 63,
    "start_time": "2023-10-09T12:51:30.285Z"
   },
   {
    "duration": 1038,
    "start_time": "2023-10-09T12:51:30.350Z"
   },
   {
    "duration": 12,
    "start_time": "2023-10-09T12:51:31.390Z"
   },
   {
    "duration": 5,
    "start_time": "2023-10-09T12:51:31.492Z"
   },
   {
    "duration": 124,
    "start_time": "2023-10-09T12:51:31.498Z"
   },
   {
    "duration": 245,
    "start_time": "2023-10-09T12:51:31.624Z"
   },
   {
    "duration": 32,
    "start_time": "2023-10-09T12:51:31.870Z"
   },
   {
    "duration": 57,
    "start_time": "2023-10-09T12:51:31.904Z"
   },
   {
    "duration": 37,
    "start_time": "2023-10-09T12:51:31.962Z"
   },
   {
    "duration": 44,
    "start_time": "2023-10-09T12:51:32.000Z"
   },
   {
    "duration": 303,
    "start_time": "2023-10-09T12:51:32.045Z"
   },
   {
    "duration": 45,
    "start_time": "2023-10-09T12:51:32.349Z"
   },
   {
    "duration": 78,
    "start_time": "2023-10-09T12:51:32.398Z"
   },
   {
    "duration": 51,
    "start_time": "2023-10-09T12:51:32.478Z"
   },
   {
    "duration": 211,
    "start_time": "2023-10-09T12:51:32.530Z"
   },
   {
    "duration": 32,
    "start_time": "2023-10-09T12:51:32.743Z"
   },
   {
    "duration": 16,
    "start_time": "2023-10-09T12:51:32.776Z"
   },
   {
    "duration": 9,
    "start_time": "2023-10-09T12:51:32.794Z"
   },
   {
    "duration": 43,
    "start_time": "2023-10-09T12:51:32.804Z"
   },
   {
    "duration": 6,
    "start_time": "2023-10-09T12:51:32.848Z"
   },
   {
    "duration": 776,
    "start_time": "2023-10-09T12:51:32.856Z"
   },
   {
    "duration": 11,
    "start_time": "2023-10-09T12:51:33.633Z"
   },
   {
    "duration": 56,
    "start_time": "2023-10-09T12:51:33.645Z"
   },
   {
    "duration": 45,
    "start_time": "2023-10-09T12:51:33.703Z"
   },
   {
    "duration": 15,
    "start_time": "2023-10-09T12:51:33.750Z"
   },
   {
    "duration": 34,
    "start_time": "2023-10-09T12:51:33.767Z"
   },
   {
    "duration": 1180,
    "start_time": "2023-10-09T12:51:33.802Z"
   },
   {
    "duration": 62,
    "start_time": "2023-10-09T12:51:34.984Z"
   },
   {
    "duration": 124,
    "start_time": "2023-10-09T12:51:35.048Z"
   },
   {
    "duration": 0,
    "start_time": "2023-10-09T12:51:35.174Z"
   },
   {
    "duration": 0,
    "start_time": "2023-10-09T12:51:35.175Z"
   },
   {
    "duration": 0,
    "start_time": "2023-10-09T12:51:35.176Z"
   },
   {
    "duration": 3,
    "start_time": "2023-10-09T12:51:50.146Z"
   },
   {
    "duration": 1337,
    "start_time": "2023-10-09T12:52:04.655Z"
   },
   {
    "duration": 59,
    "start_time": "2023-10-09T12:52:05.994Z"
   },
   {
    "duration": 810,
    "start_time": "2023-10-09T12:52:06.055Z"
   },
   {
    "duration": 12,
    "start_time": "2023-10-09T12:52:06.867Z"
   },
   {
    "duration": 19,
    "start_time": "2023-10-09T12:52:06.881Z"
   },
   {
    "duration": 128,
    "start_time": "2023-10-09T12:52:06.902Z"
   },
   {
    "duration": 146,
    "start_time": "2023-10-09T12:52:07.032Z"
   },
   {
    "duration": 7,
    "start_time": "2023-10-09T12:52:07.179Z"
   },
   {
    "duration": 10,
    "start_time": "2023-10-09T12:52:07.187Z"
   },
   {
    "duration": 21,
    "start_time": "2023-10-09T12:52:07.199Z"
   },
   {
    "duration": 30,
    "start_time": "2023-10-09T12:52:07.221Z"
   },
   {
    "duration": 18,
    "start_time": "2023-10-09T12:52:07.253Z"
   },
   {
    "duration": 20,
    "start_time": "2023-10-09T12:52:07.273Z"
   },
   {
    "duration": 11,
    "start_time": "2023-10-09T12:52:07.297Z"
   },
   {
    "duration": 19,
    "start_time": "2023-10-09T12:52:07.310Z"
   },
   {
    "duration": 18,
    "start_time": "2023-10-09T12:52:07.331Z"
   },
   {
    "duration": 19,
    "start_time": "2023-10-09T12:52:07.350Z"
   },
   {
    "duration": 36,
    "start_time": "2023-10-09T12:52:07.371Z"
   },
   {
    "duration": 23,
    "start_time": "2023-10-09T12:52:07.409Z"
   },
   {
    "duration": 33,
    "start_time": "2023-10-09T12:52:07.434Z"
   },
   {
    "duration": 7,
    "start_time": "2023-10-09T12:52:07.470Z"
   },
   {
    "duration": 788,
    "start_time": "2023-10-09T12:52:07.479Z"
   },
   {
    "duration": 3,
    "start_time": "2023-10-09T12:52:08.268Z"
   },
   {
    "duration": 30,
    "start_time": "2023-10-09T12:52:08.272Z"
   },
   {
    "duration": 33,
    "start_time": "2023-10-09T12:52:08.304Z"
   },
   {
    "duration": 24,
    "start_time": "2023-10-09T12:52:08.339Z"
   },
   {
    "duration": 41,
    "start_time": "2023-10-09T12:52:08.366Z"
   },
   {
    "duration": 1151,
    "start_time": "2023-10-09T12:52:08.409Z"
   },
   {
    "duration": 50,
    "start_time": "2023-10-09T12:52:09.562Z"
   },
   {
    "duration": 219,
    "start_time": "2023-10-09T12:52:09.614Z"
   },
   {
    "duration": 11,
    "start_time": "2023-10-09T12:52:09.835Z"
   },
   {
    "duration": 31,
    "start_time": "2023-10-09T12:52:09.848Z"
   },
   {
    "duration": 307,
    "start_time": "2023-10-09T12:52:09.881Z"
   },
   {
    "duration": 105,
    "start_time": "2023-10-09T13:38:19.919Z"
   },
   {
    "duration": 541,
    "start_time": "2023-10-09T13:39:04.854Z"
   },
   {
    "duration": 545,
    "start_time": "2023-10-09T13:39:28.081Z"
   },
   {
    "duration": 557,
    "start_time": "2023-10-09T13:39:42.567Z"
   },
   {
    "duration": 540,
    "start_time": "2023-10-09T13:48:10.904Z"
   },
   {
    "duration": 490,
    "start_time": "2023-10-09T13:48:23.747Z"
   },
   {
    "duration": 492,
    "start_time": "2023-10-09T13:55:57.752Z"
   },
   {
    "duration": 79,
    "start_time": "2023-10-09T13:56:43.657Z"
   },
   {
    "duration": 102059,
    "start_time": "2023-10-09T13:56:54.251Z"
   },
   {
    "duration": 28340,
    "start_time": "2023-10-09T13:58:48.527Z"
   },
   {
    "duration": 1348,
    "start_time": "2023-10-09T13:59:24.697Z"
   },
   {
    "duration": 58,
    "start_time": "2023-10-09T13:59:26.046Z"
   },
   {
    "duration": 794,
    "start_time": "2023-10-09T13:59:26.106Z"
   },
   {
    "duration": 13,
    "start_time": "2023-10-09T13:59:26.902Z"
   },
   {
    "duration": 28,
    "start_time": "2023-10-09T13:59:26.917Z"
   },
   {
    "duration": 141,
    "start_time": "2023-10-09T13:59:26.946Z"
   },
   {
    "duration": 133,
    "start_time": "2023-10-09T13:59:27.089Z"
   },
   {
    "duration": 6,
    "start_time": "2023-10-09T13:59:27.223Z"
   },
   {
    "duration": 35,
    "start_time": "2023-10-09T13:59:27.230Z"
   },
   {
    "duration": 17,
    "start_time": "2023-10-09T13:59:27.266Z"
   },
   {
    "duration": 31,
    "start_time": "2023-10-09T13:59:27.285Z"
   },
   {
    "duration": 27,
    "start_time": "2023-10-09T13:59:27.317Z"
   },
   {
    "duration": 37,
    "start_time": "2023-10-09T13:59:27.345Z"
   },
   {
    "duration": 23,
    "start_time": "2023-10-09T13:59:27.384Z"
   },
   {
    "duration": 16,
    "start_time": "2023-10-09T13:59:27.408Z"
   },
   {
    "duration": 25,
    "start_time": "2023-10-09T13:59:27.425Z"
   },
   {
    "duration": 4,
    "start_time": "2023-10-09T13:59:27.451Z"
   },
   {
    "duration": 24,
    "start_time": "2023-10-09T13:59:27.457Z"
   },
   {
    "duration": 11,
    "start_time": "2023-10-09T13:59:27.483Z"
   },
   {
    "duration": 28,
    "start_time": "2023-10-09T13:59:27.495Z"
   },
   {
    "duration": 6,
    "start_time": "2023-10-09T13:59:27.525Z"
   },
   {
    "duration": 758,
    "start_time": "2023-10-09T13:59:27.532Z"
   },
   {
    "duration": 3,
    "start_time": "2023-10-09T13:59:28.291Z"
   },
   {
    "duration": 24,
    "start_time": "2023-10-09T13:59:28.295Z"
   },
   {
    "duration": 46,
    "start_time": "2023-10-09T13:59:28.321Z"
   },
   {
    "duration": 41,
    "start_time": "2023-10-09T13:59:28.368Z"
   },
   {
    "duration": 28,
    "start_time": "2023-10-09T13:59:28.410Z"
   },
   {
    "duration": 1051,
    "start_time": "2023-10-09T13:59:28.439Z"
   },
   {
    "duration": 56,
    "start_time": "2023-10-09T13:59:29.492Z"
   },
   {
    "duration": 4,
    "start_time": "2023-10-09T13:59:29.549Z"
   },
   {
    "duration": 26,
    "start_time": "2023-10-09T13:59:29.554Z"
   },
   {
    "duration": 304,
    "start_time": "2023-10-09T13:59:29.582Z"
   },
   {
    "duration": 497,
    "start_time": "2023-10-09T13:59:29.887Z"
   },
   {
    "duration": 96972,
    "start_time": "2023-10-09T13:59:30.385Z"
   },
   {
    "duration": 550,
    "start_time": "2023-10-09T14:02:35.924Z"
   },
   {
    "duration": 1456,
    "start_time": "2023-10-09T14:04:10.828Z"
   },
   {
    "duration": 62,
    "start_time": "2023-10-09T14:04:12.287Z"
   },
   {
    "duration": 803,
    "start_time": "2023-10-09T14:04:12.351Z"
   },
   {
    "duration": 13,
    "start_time": "2023-10-09T14:04:13.155Z"
   },
   {
    "duration": 142,
    "start_time": "2023-10-09T14:04:13.170Z"
   },
   {
    "duration": 134,
    "start_time": "2023-10-09T14:04:13.314Z"
   },
   {
    "duration": 132,
    "start_time": "2023-10-09T14:04:13.450Z"
   },
   {
    "duration": 7,
    "start_time": "2023-10-09T14:04:13.583Z"
   },
   {
    "duration": 12,
    "start_time": "2023-10-09T14:04:13.592Z"
   },
   {
    "duration": 17,
    "start_time": "2023-10-09T14:04:13.606Z"
   },
   {
    "duration": 20,
    "start_time": "2023-10-09T14:04:13.625Z"
   },
   {
    "duration": 14,
    "start_time": "2023-10-09T14:04:13.647Z"
   },
   {
    "duration": 18,
    "start_time": "2023-10-09T14:04:13.663Z"
   },
   {
    "duration": 15,
    "start_time": "2023-10-09T14:04:13.684Z"
   },
   {
    "duration": 19,
    "start_time": "2023-10-09T14:04:13.700Z"
   },
   {
    "duration": 30,
    "start_time": "2023-10-09T14:04:13.721Z"
   },
   {
    "duration": 12,
    "start_time": "2023-10-09T14:04:13.753Z"
   },
   {
    "duration": 12,
    "start_time": "2023-10-09T14:04:13.767Z"
   },
   {
    "duration": 18,
    "start_time": "2023-10-09T14:04:13.780Z"
   },
   {
    "duration": 33,
    "start_time": "2023-10-09T14:04:13.799Z"
   },
   {
    "duration": 13,
    "start_time": "2023-10-09T14:04:13.834Z"
   },
   {
    "duration": 874,
    "start_time": "2023-10-09T14:04:13.849Z"
   },
   {
    "duration": 3,
    "start_time": "2023-10-09T14:04:14.724Z"
   },
   {
    "duration": 17,
    "start_time": "2023-10-09T14:04:14.729Z"
   },
   {
    "duration": 29,
    "start_time": "2023-10-09T14:04:14.747Z"
   },
   {
    "duration": 15,
    "start_time": "2023-10-09T14:04:14.777Z"
   },
   {
    "duration": 21,
    "start_time": "2023-10-09T14:04:14.793Z"
   },
   {
    "duration": 1116,
    "start_time": "2023-10-09T14:04:14.816Z"
   },
   {
    "duration": 59,
    "start_time": "2023-10-09T14:04:15.934Z"
   },
   {
    "duration": 13,
    "start_time": "2023-10-09T14:04:15.995Z"
   },
   {
    "duration": 40,
    "start_time": "2023-10-09T14:04:16.010Z"
   },
   {
    "duration": 338,
    "start_time": "2023-10-09T14:04:16.051Z"
   },
   {
    "duration": 644,
    "start_time": "2023-10-09T14:04:16.391Z"
   },
   {
    "duration": 135387,
    "start_time": "2023-10-09T14:04:23.414Z"
   },
   {
    "duration": 276,
    "start_time": "2023-10-09T14:09:41.370Z"
   },
   {
    "duration": 235,
    "start_time": "2023-10-09T14:12:49.118Z"
   },
   {
    "duration": 994,
    "start_time": "2023-10-09T14:13:48.258Z"
   },
   {
    "duration": 47,
    "start_time": "2023-10-09T14:15:51.727Z"
   },
   {
    "duration": 1510,
    "start_time": "2023-10-09T14:37:58.190Z"
   },
   {
    "duration": 62,
    "start_time": "2023-10-09T14:37:59.702Z"
   },
   {
    "duration": 951,
    "start_time": "2023-10-09T14:37:59.766Z"
   },
   {
    "duration": 106,
    "start_time": "2023-10-09T14:42:26.859Z"
   },
   {
    "duration": 4,
    "start_time": "2023-10-09T14:42:30.597Z"
   },
   {
    "duration": 98,
    "start_time": "2023-10-09T14:42:30.603Z"
   },
   {
    "duration": 861,
    "start_time": "2023-10-09T14:42:30.702Z"
   },
   {
    "duration": 11,
    "start_time": "2023-10-09T14:42:31.565Z"
   },
   {
    "duration": 58,
    "start_time": "2023-10-09T14:42:31.578Z"
   },
   {
    "duration": 92,
    "start_time": "2023-10-09T14:42:31.638Z"
   },
   {
    "duration": 135,
    "start_time": "2023-10-09T14:42:31.732Z"
   },
   {
    "duration": 5,
    "start_time": "2023-10-09T14:42:31.869Z"
   },
   {
    "duration": 87,
    "start_time": "2023-10-09T14:42:31.876Z"
   },
   {
    "duration": 27,
    "start_time": "2023-10-09T14:42:31.965Z"
   },
   {
    "duration": 30,
    "start_time": "2023-10-09T14:42:31.993Z"
   },
   {
    "duration": 32,
    "start_time": "2023-10-09T14:42:32.025Z"
   },
   {
    "duration": 48,
    "start_time": "2023-10-09T14:42:32.059Z"
   },
   {
    "duration": 37,
    "start_time": "2023-10-09T14:42:32.109Z"
   },
   {
    "duration": 37,
    "start_time": "2023-10-09T14:42:32.148Z"
   },
   {
    "duration": 40,
    "start_time": "2023-10-09T14:42:32.187Z"
   },
   {
    "duration": 28,
    "start_time": "2023-10-09T14:42:32.229Z"
   },
   {
    "duration": 19,
    "start_time": "2023-10-09T14:42:32.259Z"
   },
   {
    "duration": 20,
    "start_time": "2023-10-09T14:42:32.279Z"
   },
   {
    "duration": 46,
    "start_time": "2023-10-09T14:42:32.301Z"
   },
   {
    "duration": 13,
    "start_time": "2023-10-09T14:42:32.348Z"
   },
   {
    "duration": 772,
    "start_time": "2023-10-09T14:42:32.363Z"
   },
   {
    "duration": 7,
    "start_time": "2023-10-09T14:42:33.137Z"
   },
   {
    "duration": 14,
    "start_time": "2023-10-09T14:42:33.146Z"
   },
   {
    "duration": 18,
    "start_time": "2023-10-09T14:42:33.162Z"
   },
   {
    "duration": 46,
    "start_time": "2023-10-09T14:42:33.181Z"
   },
   {
    "duration": 4,
    "start_time": "2023-10-09T14:43:59.638Z"
   },
   {
    "duration": 89,
    "start_time": "2023-10-09T14:43:59.644Z"
   },
   {
    "duration": 768,
    "start_time": "2023-10-09T14:43:59.735Z"
   },
   {
    "duration": 14,
    "start_time": "2023-10-09T14:44:00.506Z"
   },
   {
    "duration": 59,
    "start_time": "2023-10-09T14:44:00.521Z"
   },
   {
    "duration": 93,
    "start_time": "2023-10-09T14:44:00.582Z"
   },
   {
    "duration": 602,
    "start_time": "2023-10-09T14:44:00.677Z"
   },
   {
    "duration": 7,
    "start_time": "2023-10-09T14:44:01.281Z"
   },
   {
    "duration": 86,
    "start_time": "2023-10-09T14:44:01.290Z"
   },
   {
    "duration": 214,
    "start_time": "2023-10-09T14:44:01.379Z"
   },
   {
    "duration": 52,
    "start_time": "2023-10-09T14:44:01.595Z"
   },
   {
    "duration": 57,
    "start_time": "2023-10-09T14:44:01.649Z"
   },
   {
    "duration": 63,
    "start_time": "2023-10-09T14:44:01.707Z"
   },
   {
    "duration": 65,
    "start_time": "2023-10-09T14:44:01.772Z"
   },
   {
    "duration": 33,
    "start_time": "2023-10-09T14:44:01.839Z"
   },
   {
    "duration": 44,
    "start_time": "2023-10-09T14:44:01.873Z"
   },
   {
    "duration": 19,
    "start_time": "2023-10-09T14:44:01.919Z"
   },
   {
    "duration": 31,
    "start_time": "2023-10-09T14:44:01.940Z"
   },
   {
    "duration": 38,
    "start_time": "2023-10-09T14:44:01.972Z"
   },
   {
    "duration": 50,
    "start_time": "2023-10-09T14:44:02.012Z"
   },
   {
    "duration": 68,
    "start_time": "2023-10-09T14:44:02.064Z"
   },
   {
    "duration": 778,
    "start_time": "2023-10-09T14:44:02.134Z"
   },
   {
    "duration": 3,
    "start_time": "2023-10-09T14:44:02.914Z"
   },
   {
    "duration": 12,
    "start_time": "2023-10-09T14:44:02.918Z"
   },
   {
    "duration": 17,
    "start_time": "2023-10-09T14:44:02.931Z"
   },
   {
    "duration": 51,
    "start_time": "2023-10-09T14:44:02.950Z"
   },
   {
    "duration": 4,
    "start_time": "2023-10-09T14:44:03.003Z"
   },
   {
    "duration": 19,
    "start_time": "2023-10-09T14:44:03.010Z"
   },
   {
    "duration": 1054,
    "start_time": "2023-10-09T14:44:03.030Z"
   },
   {
    "duration": 76,
    "start_time": "2023-10-09T14:44:04.086Z"
   },
   {
    "duration": 5,
    "start_time": "2023-10-09T14:44:04.164Z"
   },
   {
    "duration": 84,
    "start_time": "2023-10-09T14:44:04.170Z"
   },
   {
    "duration": 469,
    "start_time": "2023-10-09T14:44:04.256Z"
   },
   {
    "duration": 10,
    "start_time": "2023-10-09T14:44:15.357Z"
   },
   {
    "duration": 588,
    "start_time": "2023-10-09T14:44:17.557Z"
   },
   {
    "duration": 9,
    "start_time": "2023-10-09T14:44:22.559Z"
   },
   {
    "duration": 693,
    "start_time": "2023-10-09T14:44:24.257Z"
   },
   {
    "duration": 10,
    "start_time": "2023-10-09T14:44:30.925Z"
   },
   {
    "duration": 534,
    "start_time": "2023-10-09T14:44:31.610Z"
   },
   {
    "duration": 9,
    "start_time": "2023-10-09T14:44:37.185Z"
   },
   {
    "duration": 289,
    "start_time": "2023-10-09T14:44:37.727Z"
   },
   {
    "duration": 11,
    "start_time": "2023-10-09T14:44:41.792Z"
   },
   {
    "duration": 531,
    "start_time": "2023-10-09T14:44:42.426Z"
   },
   {
    "duration": 50,
    "start_time": "2023-10-09T14:45:28.272Z"
   },
   {
    "duration": 5,
    "start_time": "2023-10-09T14:46:09.838Z"
   },
   {
    "duration": 9,
    "start_time": "2023-10-09T14:46:19.970Z"
   },
   {
    "duration": 5,
    "start_time": "2023-10-09T14:46:20.628Z"
   },
   {
    "duration": 10,
    "start_time": "2023-10-09T14:46:25.584Z"
   },
   {
    "duration": 6,
    "start_time": "2023-10-09T14:46:26.254Z"
   },
   {
    "duration": 10,
    "start_time": "2023-10-09T14:46:31.375Z"
   },
   {
    "duration": 6,
    "start_time": "2023-10-09T14:46:32.056Z"
   },
   {
    "duration": 10,
    "start_time": "2023-10-09T14:46:35.855Z"
   },
   {
    "duration": 4,
    "start_time": "2023-10-09T14:46:36.405Z"
   },
   {
    "duration": 10,
    "start_time": "2023-10-09T14:46:40.382Z"
   },
   {
    "duration": 5,
    "start_time": "2023-10-09T14:46:40.890Z"
   },
   {
    "duration": 10,
    "start_time": "2023-10-09T14:46:44.836Z"
   },
   {
    "duration": 5,
    "start_time": "2023-10-09T14:46:45.310Z"
   },
   {
    "duration": 419,
    "start_time": "2023-10-09T14:46:46.185Z"
   },
   {
    "duration": 43,
    "start_time": "2023-10-09T14:46:48.034Z"
   },
   {
    "duration": 12,
    "start_time": "2023-10-09T14:47:06.347Z"
   },
   {
    "duration": 7,
    "start_time": "2023-10-09T14:47:06.999Z"
   },
   {
    "duration": 499,
    "start_time": "2023-10-09T14:47:08.270Z"
   },
   {
    "duration": 45,
    "start_time": "2023-10-09T14:47:09.782Z"
   },
   {
    "duration": 10,
    "start_time": "2023-10-09T14:47:14.834Z"
   },
   {
    "duration": 6,
    "start_time": "2023-10-09T14:47:15.303Z"
   },
   {
    "duration": 411,
    "start_time": "2023-10-09T14:47:16.600Z"
   },
   {
    "duration": 57,
    "start_time": "2023-10-09T14:47:17.013Z"
   },
   {
    "duration": 42,
    "start_time": "2023-10-09T14:49:50.031Z"
   },
   {
    "duration": 44,
    "start_time": "2023-10-09T14:50:00.884Z"
   },
   {
    "duration": 1463,
    "start_time": "2023-10-09T14:50:16.314Z"
   },
   {
    "duration": 63,
    "start_time": "2023-10-09T14:50:17.779Z"
   },
   {
    "duration": 799,
    "start_time": "2023-10-09T14:50:17.844Z"
   },
   {
    "duration": 15,
    "start_time": "2023-10-09T14:50:18.645Z"
   },
   {
    "duration": 5,
    "start_time": "2023-10-09T14:50:18.662Z"
   },
   {
    "duration": 113,
    "start_time": "2023-10-09T14:50:18.669Z"
   },
   {
    "duration": 130,
    "start_time": "2023-10-09T14:50:18.783Z"
   },
   {
    "duration": 7,
    "start_time": "2023-10-09T14:50:18.915Z"
   },
   {
    "duration": 31,
    "start_time": "2023-10-09T14:50:18.923Z"
   },
   {
    "duration": 29,
    "start_time": "2023-10-09T14:50:18.958Z"
   },
   {
    "duration": 27,
    "start_time": "2023-10-09T14:50:18.989Z"
   },
   {
    "duration": 35,
    "start_time": "2023-10-09T14:50:19.018Z"
   },
   {
    "duration": 52,
    "start_time": "2023-10-09T14:50:19.055Z"
   },
   {
    "duration": 9,
    "start_time": "2023-10-09T14:50:19.109Z"
   },
   {
    "duration": 9,
    "start_time": "2023-10-09T14:50:19.120Z"
   },
   {
    "duration": 24,
    "start_time": "2023-10-09T14:50:19.130Z"
   },
   {
    "duration": 7,
    "start_time": "2023-10-09T14:50:19.156Z"
   },
   {
    "duration": 10,
    "start_time": "2023-10-09T14:50:19.165Z"
   },
   {
    "duration": 16,
    "start_time": "2023-10-09T14:50:19.177Z"
   },
   {
    "duration": 35,
    "start_time": "2023-10-09T14:50:19.194Z"
   },
   {
    "duration": 7,
    "start_time": "2023-10-09T14:50:19.231Z"
   },
   {
    "duration": 761,
    "start_time": "2023-10-09T14:50:19.239Z"
   },
   {
    "duration": 3,
    "start_time": "2023-10-09T14:50:20.001Z"
   },
   {
    "duration": 35,
    "start_time": "2023-10-09T14:50:20.006Z"
   },
   {
    "duration": 30,
    "start_time": "2023-10-09T14:50:20.043Z"
   },
   {
    "duration": 76,
    "start_time": "2023-10-09T14:50:20.074Z"
   },
   {
    "duration": 4,
    "start_time": "2023-10-09T14:50:20.152Z"
   },
   {
    "duration": 73,
    "start_time": "2023-10-09T14:50:20.160Z"
   },
   {
    "duration": 1051,
    "start_time": "2023-10-09T14:50:20.235Z"
   },
   {
    "duration": 57,
    "start_time": "2023-10-09T14:50:21.288Z"
   },
   {
    "duration": 4,
    "start_time": "2023-10-09T14:50:21.346Z"
   },
   {
    "duration": 41,
    "start_time": "2023-10-09T14:50:21.352Z"
   },
   {
    "duration": 32,
    "start_time": "2023-10-09T14:50:21.395Z"
   },
   {
    "duration": 440,
    "start_time": "2023-10-09T14:50:21.428Z"
   },
   {
    "duration": 44,
    "start_time": "2023-10-09T14:50:21.870Z"
   },
   {
    "duration": 667,
    "start_time": "2023-10-09T14:50:21.916Z"
   },
   {
    "duration": 7,
    "start_time": "2023-10-09T14:50:22.585Z"
   },
   {
    "duration": 80004,
    "start_time": "2023-10-09T14:50:22.594Z"
   },
   {
    "duration": 59,
    "start_time": "2023-10-09T14:51:42.600Z"
   },
   {
    "duration": 288,
    "start_time": "2023-10-09T14:51:42.661Z"
   },
   {
    "duration": 101,
    "start_time": "2023-10-09T14:51:42.953Z"
   },
   {
    "duration": 1404,
    "start_time": "2023-10-09T14:52:32.771Z"
   },
   {
    "duration": 73,
    "start_time": "2023-10-09T14:52:34.177Z"
   },
   {
    "duration": 870,
    "start_time": "2023-10-09T14:52:34.254Z"
   },
   {
    "duration": 18,
    "start_time": "2023-10-09T14:52:35.126Z"
   },
   {
    "duration": 44,
    "start_time": "2023-10-09T14:52:35.147Z"
   },
   {
    "duration": 118,
    "start_time": "2023-10-09T14:52:35.194Z"
   },
   {
    "duration": 146,
    "start_time": "2023-10-09T14:52:35.314Z"
   },
   {
    "duration": 7,
    "start_time": "2023-10-09T14:52:35.461Z"
   },
   {
    "duration": 70,
    "start_time": "2023-10-09T14:52:35.470Z"
   },
   {
    "duration": 68,
    "start_time": "2023-10-09T14:52:35.542Z"
   },
   {
    "duration": 49,
    "start_time": "2023-10-09T14:52:35.612Z"
   },
   {
    "duration": 35,
    "start_time": "2023-10-09T14:52:35.663Z"
   },
   {
    "duration": 20,
    "start_time": "2023-10-09T14:52:35.700Z"
   },
   {
    "duration": 14,
    "start_time": "2023-10-09T14:52:35.724Z"
   },
   {
    "duration": 7,
    "start_time": "2023-10-09T14:52:35.739Z"
   },
   {
    "duration": 9,
    "start_time": "2023-10-09T14:52:35.747Z"
   },
   {
    "duration": 30,
    "start_time": "2023-10-09T14:52:35.757Z"
   },
   {
    "duration": 26,
    "start_time": "2023-10-09T14:52:35.789Z"
   },
   {
    "duration": 15,
    "start_time": "2023-10-09T14:52:35.817Z"
   },
   {
    "duration": 32,
    "start_time": "2023-10-09T14:52:35.834Z"
   },
   {
    "duration": 7,
    "start_time": "2023-10-09T14:52:35.868Z"
   },
   {
    "duration": 860,
    "start_time": "2023-10-09T14:52:35.877Z"
   },
   {
    "duration": 7,
    "start_time": "2023-10-09T14:52:36.738Z"
   },
   {
    "duration": 8,
    "start_time": "2023-10-09T14:52:36.747Z"
   },
   {
    "duration": 9,
    "start_time": "2023-10-09T14:52:36.757Z"
   },
   {
    "duration": 50,
    "start_time": "2023-10-09T14:52:36.768Z"
   },
   {
    "duration": 24,
    "start_time": "2023-10-09T14:52:36.820Z"
   },
   {
    "duration": 12,
    "start_time": "2023-10-09T14:52:36.846Z"
   },
   {
    "duration": 1043,
    "start_time": "2023-10-09T14:52:36.860Z"
   },
   {
    "duration": 63,
    "start_time": "2023-10-09T14:52:37.905Z"
   },
   {
    "duration": 5,
    "start_time": "2023-10-09T14:52:37.970Z"
   },
   {
    "duration": 12,
    "start_time": "2023-10-09T14:52:37.976Z"
   },
   {
    "duration": 10,
    "start_time": "2023-10-09T14:52:37.989Z"
   },
   {
    "duration": 421,
    "start_time": "2023-10-09T14:52:38.000Z"
   },
   {
    "duration": 51,
    "start_time": "2023-10-09T14:52:38.424Z"
   },
   {
    "duration": 637,
    "start_time": "2023-10-09T14:52:38.477Z"
   },
   {
    "duration": 8,
    "start_time": "2023-10-09T14:52:39.115Z"
   },
   {
    "duration": 80605,
    "start_time": "2023-10-09T14:52:39.124Z"
   },
   {
    "duration": 60,
    "start_time": "2023-10-09T14:53:59.731Z"
   },
   {
    "duration": 355,
    "start_time": "2023-10-09T14:53:59.792Z"
   },
   {
    "duration": 102,
    "start_time": "2023-10-09T14:54:00.153Z"
   },
   {
    "duration": 1406,
    "start_time": "2023-10-09T14:54:00.257Z"
   },
   {
    "duration": 48,
    "start_time": "2023-10-09T14:54:01.665Z"
   },
   {
    "duration": 113,
    "start_time": "2023-10-09T14:58:40.781Z"
   },
   {
    "duration": 18,
    "start_time": "2023-10-09T14:58:48.695Z"
   },
   {
    "duration": 1421,
    "start_time": "2023-10-09T15:00:26.061Z"
   },
   {
    "duration": 1407,
    "start_time": "2023-10-09T15:00:35.542Z"
   },
   {
    "duration": 982,
    "start_time": "2023-10-09T15:00:46.363Z"
   },
   {
    "duration": 1021,
    "start_time": "2023-10-09T15:00:55.012Z"
   },
   {
    "duration": 1014,
    "start_time": "2023-10-09T15:01:02.512Z"
   },
   {
    "duration": 1307,
    "start_time": "2023-10-09T15:01:11.069Z"
   },
   {
    "duration": 1380,
    "start_time": "2023-10-09T15:41:05.631Z"
   },
   {
    "duration": 65,
    "start_time": "2023-10-09T15:41:07.013Z"
   },
   {
    "duration": 1279,
    "start_time": "2023-10-09T15:41:07.080Z"
   },
   {
    "duration": 13,
    "start_time": "2023-10-09T15:41:08.361Z"
   },
   {
    "duration": 6,
    "start_time": "2023-10-09T15:41:08.376Z"
   },
   {
    "duration": 36,
    "start_time": "2023-10-09T15:41:08.383Z"
   },
   {
    "duration": 139,
    "start_time": "2023-10-09T15:41:08.421Z"
   },
   {
    "duration": 6,
    "start_time": "2023-10-09T15:41:08.562Z"
   },
   {
    "duration": 10,
    "start_time": "2023-10-09T15:41:08.569Z"
   },
   {
    "duration": 4,
    "start_time": "2023-10-09T15:41:08.582Z"
   },
   {
    "duration": 8,
    "start_time": "2023-10-09T15:41:08.587Z"
   },
   {
    "duration": 17,
    "start_time": "2023-10-09T15:41:08.597Z"
   },
   {
    "duration": 45,
    "start_time": "2023-10-09T15:41:08.616Z"
   },
   {
    "duration": 15,
    "start_time": "2023-10-09T15:41:08.663Z"
   },
   {
    "duration": 26,
    "start_time": "2023-10-09T15:41:08.679Z"
   },
   {
    "duration": 127,
    "start_time": "2023-10-09T15:41:08.707Z"
   },
   {
    "duration": 21,
    "start_time": "2023-10-09T15:42:01.066Z"
   },
   {
    "duration": 10,
    "start_time": "2023-10-09T15:42:07.254Z"
   },
   {
    "duration": 4,
    "start_time": "2023-10-09T15:42:09.706Z"
   },
   {
    "duration": 5,
    "start_time": "2023-10-09T15:42:10.291Z"
   },
   {
    "duration": 4,
    "start_time": "2023-10-09T15:42:10.674Z"
   },
   {
    "duration": 24,
    "start_time": "2023-10-09T15:42:13.399Z"
   },
   {
    "duration": 8,
    "start_time": "2023-10-09T15:42:16.369Z"
   },
   {
    "duration": 742,
    "start_time": "2023-10-09T15:42:17.913Z"
   },
   {
    "duration": 3,
    "start_time": "2023-10-09T15:42:22.433Z"
   },
   {
    "duration": 5,
    "start_time": "2023-10-09T15:42:22.750Z"
   },
   {
    "duration": 7,
    "start_time": "2023-10-09T15:42:23.603Z"
   },
   {
    "duration": 49,
    "start_time": "2023-10-09T15:42:27.308Z"
   },
   {
    "duration": 3,
    "start_time": "2023-10-09T15:42:30.447Z"
   },
   {
    "duration": 11,
    "start_time": "2023-10-09T15:42:30.790Z"
   },
   {
    "duration": 1059,
    "start_time": "2023-10-09T15:42:31.451Z"
   },
   {
    "duration": 50,
    "start_time": "2023-10-09T15:42:35.424Z"
   },
   {
    "duration": 4,
    "start_time": "2023-10-09T15:42:40.061Z"
   },
   {
    "duration": 9,
    "start_time": "2023-10-09T15:42:40.398Z"
   },
   {
    "duration": 6,
    "start_time": "2023-10-09T15:42:41.117Z"
   },
   {
    "duration": 398,
    "start_time": "2023-10-09T15:42:42.172Z"
   },
   {
    "duration": 44,
    "start_time": "2023-10-09T15:42:45.919Z"
   },
   {
    "duration": 621,
    "start_time": "2023-10-09T15:42:49.702Z"
   },
   {
    "duration": 7,
    "start_time": "2023-10-09T15:42:52.755Z"
   },
   {
    "duration": 79385,
    "start_time": "2023-10-09T15:42:55.429Z"
   },
   {
    "duration": 10,
    "start_time": "2023-10-09T15:47:19.500Z"
   },
   {
    "duration": 12,
    "start_time": "2023-10-09T15:47:39.482Z"
   },
   {
    "duration": 1385,
    "start_time": "2023-10-09T15:48:02.759Z"
   },
   {
    "duration": 71,
    "start_time": "2023-10-09T15:48:04.147Z"
   },
   {
    "duration": 1246,
    "start_time": "2023-10-09T15:48:04.220Z"
   },
   {
    "duration": 13,
    "start_time": "2023-10-09T15:48:05.467Z"
   },
   {
    "duration": 49,
    "start_time": "2023-10-09T15:48:05.481Z"
   },
   {
    "duration": 68,
    "start_time": "2023-10-09T15:48:05.532Z"
   },
   {
    "duration": 134,
    "start_time": "2023-10-09T15:48:05.602Z"
   },
   {
    "duration": 10,
    "start_time": "2023-10-09T15:48:05.737Z"
   },
   {
    "duration": 24,
    "start_time": "2023-10-09T15:48:05.748Z"
   },
   {
    "duration": 37,
    "start_time": "2023-10-09T15:48:05.774Z"
   },
   {
    "duration": 25,
    "start_time": "2023-10-09T15:48:05.813Z"
   },
   {
    "duration": 31,
    "start_time": "2023-10-09T15:48:05.840Z"
   },
   {
    "duration": 50,
    "start_time": "2023-10-09T15:48:05.873Z"
   },
   {
    "duration": 34,
    "start_time": "2023-10-09T15:48:05.926Z"
   },
   {
    "duration": 20,
    "start_time": "2023-10-09T15:48:05.962Z"
   },
   {
    "duration": 12,
    "start_time": "2023-10-09T15:48:05.984Z"
   },
   {
    "duration": 11,
    "start_time": "2023-10-09T15:48:08.474Z"
   },
   {
    "duration": 4,
    "start_time": "2023-10-09T15:48:08.919Z"
   },
   {
    "duration": 4,
    "start_time": "2023-10-09T15:48:09.441Z"
   },
   {
    "duration": 3,
    "start_time": "2023-10-09T15:48:09.888Z"
   },
   {
    "duration": 24,
    "start_time": "2023-10-09T15:48:13.634Z"
   },
   {
    "duration": 7,
    "start_time": "2023-10-09T15:48:14.552Z"
   },
   {
    "duration": 828,
    "start_time": "2023-10-09T15:48:16.149Z"
   },
   {
    "duration": 3,
    "start_time": "2023-10-09T15:48:20.327Z"
   },
   {
    "duration": 5,
    "start_time": "2023-10-09T15:48:20.784Z"
   },
   {
    "duration": 6,
    "start_time": "2023-10-09T15:48:21.617Z"
   },
   {
    "duration": 53,
    "start_time": "2023-10-09T15:48:25.564Z"
   },
   {
    "duration": 4,
    "start_time": "2023-10-09T15:48:27.315Z"
   },
   {
    "duration": 11,
    "start_time": "2023-10-09T15:48:27.912Z"
   },
   {
    "duration": 1057,
    "start_time": "2023-10-09T15:48:29.223Z"
   },
   {
    "duration": 49,
    "start_time": "2023-10-09T15:48:31.211Z"
   },
   {
    "duration": 4,
    "start_time": "2023-10-09T15:48:36.161Z"
   },
   {
    "duration": 9,
    "start_time": "2023-10-09T15:48:38.321Z"
   },
   {
    "duration": 5,
    "start_time": "2023-10-09T15:48:39.185Z"
   },
   {
    "duration": 407,
    "start_time": "2023-10-09T15:48:40.576Z"
   },
   {
    "duration": 44,
    "start_time": "2023-10-09T15:48:42.899Z"
   },
   {
    "duration": 617,
    "start_time": "2023-10-09T15:48:46.532Z"
   },
   {
    "duration": 8,
    "start_time": "2023-10-09T15:48:48.915Z"
   },
   {
    "duration": 79319,
    "start_time": "2023-10-09T15:48:49.676Z"
   },
   {
    "duration": 48,
    "start_time": "2023-10-09T15:50:18.892Z"
   },
   {
    "duration": 384,
    "start_time": "2023-10-09T15:50:20.761Z"
   },
   {
    "duration": 10,
    "start_time": "2023-10-09T15:50:21.421Z"
   },
   {
    "duration": 1024,
    "start_time": "2023-10-09T15:50:26.058Z"
   },
   {
    "duration": 50,
    "start_time": "2023-10-09T15:50:35.613Z"
   },
   {
    "duration": 53,
    "start_time": "2023-10-09T15:53:12.283Z"
   },
   {
    "duration": 1102,
    "start_time": "2023-10-09T15:53:14.932Z"
   },
   {
    "duration": 1509,
    "start_time": "2023-10-21T14:11:14.028Z"
   },
   {
    "duration": 116,
    "start_time": "2023-10-21T14:11:15.539Z"
   },
   {
    "duration": 1170,
    "start_time": "2023-10-21T14:11:15.656Z"
   },
   {
    "duration": 18,
    "start_time": "2023-10-21T14:11:16.828Z"
   },
   {
    "duration": 20,
    "start_time": "2023-10-21T14:11:16.847Z"
   },
   {
    "duration": 23,
    "start_time": "2023-10-21T14:11:16.868Z"
   },
   {
    "duration": 127,
    "start_time": "2023-10-21T14:11:16.892Z"
   },
   {
    "duration": 6,
    "start_time": "2023-10-21T14:11:17.020Z"
   },
   {
    "duration": 19,
    "start_time": "2023-10-21T14:11:17.027Z"
   },
   {
    "duration": 5,
    "start_time": "2023-10-21T14:11:17.048Z"
   },
   {
    "duration": 12,
    "start_time": "2023-10-21T14:11:17.055Z"
   },
   {
    "duration": 11,
    "start_time": "2023-10-21T14:11:17.069Z"
   },
   {
    "duration": 98,
    "start_time": "2023-10-21T14:11:32.175Z"
   },
   {
    "duration": 1461,
    "start_time": "2023-11-19T17:16:15.239Z"
   },
   {
    "duration": 174,
    "start_time": "2023-11-19T17:16:16.702Z"
   },
   {
    "duration": 1397,
    "start_time": "2023-11-19T17:16:16.878Z"
   },
   {
    "duration": 14,
    "start_time": "2023-11-19T17:16:18.276Z"
   },
   {
    "duration": 5,
    "start_time": "2023-11-19T17:16:18.292Z"
   },
   {
    "duration": 28,
    "start_time": "2023-11-19T17:16:18.298Z"
   },
   {
    "duration": 171,
    "start_time": "2023-11-19T17:16:18.327Z"
   },
   {
    "duration": 6,
    "start_time": "2023-11-19T17:16:18.499Z"
   },
   {
    "duration": 13,
    "start_time": "2023-11-19T17:16:18.506Z"
   },
   {
    "duration": 32,
    "start_time": "2023-11-19T17:16:18.520Z"
   },
   {
    "duration": 12,
    "start_time": "2023-11-19T17:16:18.554Z"
   },
   {
    "duration": 16,
    "start_time": "2023-11-19T17:16:18.567Z"
   },
   {
    "duration": 123,
    "start_time": "2023-11-19T17:16:18.585Z"
   },
   {
    "duration": 0,
    "start_time": "2023-11-19T17:16:18.710Z"
   },
   {
    "duration": 0,
    "start_time": "2023-11-19T17:16:18.711Z"
   },
   {
    "duration": 0,
    "start_time": "2023-11-19T17:16:18.712Z"
   },
   {
    "duration": 0,
    "start_time": "2023-11-19T17:16:18.713Z"
   },
   {
    "duration": 0,
    "start_time": "2023-11-19T17:16:18.714Z"
   },
   {
    "duration": 0,
    "start_time": "2023-11-19T17:16:18.715Z"
   },
   {
    "duration": 0,
    "start_time": "2023-11-19T17:16:18.716Z"
   },
   {
    "duration": 0,
    "start_time": "2023-11-19T17:16:18.717Z"
   },
   {
    "duration": 0,
    "start_time": "2023-11-19T17:16:18.718Z"
   },
   {
    "duration": 0,
    "start_time": "2023-11-19T17:16:18.719Z"
   },
   {
    "duration": 0,
    "start_time": "2023-11-19T17:16:18.720Z"
   },
   {
    "duration": 0,
    "start_time": "2023-11-19T17:16:18.721Z"
   },
   {
    "duration": 0,
    "start_time": "2023-11-19T17:16:18.722Z"
   },
   {
    "duration": 0,
    "start_time": "2023-11-19T17:16:18.723Z"
   },
   {
    "duration": 0,
    "start_time": "2023-11-19T17:16:18.723Z"
   },
   {
    "duration": 0,
    "start_time": "2023-11-19T17:16:18.724Z"
   },
   {
    "duration": 9,
    "start_time": "2023-11-19T17:16:46.364Z"
   },
   {
    "duration": 9,
    "start_time": "2023-11-19T17:16:52.543Z"
   },
   {
    "duration": 3,
    "start_time": "2023-11-19T17:16:56.997Z"
   },
   {
    "duration": 9,
    "start_time": "2023-11-19T17:17:03.636Z"
   },
   {
    "duration": 4,
    "start_time": "2023-11-19T17:17:21.572Z"
   },
   {
    "duration": 94,
    "start_time": "2023-11-19T17:17:21.578Z"
   },
   {
    "duration": 1270,
    "start_time": "2023-11-19T17:17:21.673Z"
   },
   {
    "duration": 12,
    "start_time": "2023-11-19T17:17:22.945Z"
   },
   {
    "duration": 21,
    "start_time": "2023-11-19T17:17:22.959Z"
   },
   {
    "duration": 32,
    "start_time": "2023-11-19T17:17:22.982Z"
   },
   {
    "duration": 140,
    "start_time": "2023-11-19T17:17:23.016Z"
   },
   {
    "duration": 16,
    "start_time": "2023-11-19T17:17:23.158Z"
   },
   {
    "duration": 12,
    "start_time": "2023-11-19T17:17:23.176Z"
   },
   {
    "duration": 17,
    "start_time": "2023-11-19T17:17:23.191Z"
   },
   {
    "duration": 26,
    "start_time": "2023-11-19T17:17:23.210Z"
   },
   {
    "duration": 25,
    "start_time": "2023-11-19T17:17:23.238Z"
   },
   {
    "duration": 20,
    "start_time": "2023-11-19T17:17:23.265Z"
   },
   {
    "duration": 0,
    "start_time": "2023-11-19T17:17:23.287Z"
   },
   {
    "duration": 0,
    "start_time": "2023-11-19T17:17:23.288Z"
   },
   {
    "duration": 0,
    "start_time": "2023-11-19T17:17:23.290Z"
   },
   {
    "duration": 0,
    "start_time": "2023-11-19T17:17:23.290Z"
   },
   {
    "duration": 0,
    "start_time": "2023-11-19T17:17:23.292Z"
   },
   {
    "duration": 0,
    "start_time": "2023-11-19T17:17:23.293Z"
   },
   {
    "duration": 0,
    "start_time": "2023-11-19T17:17:23.294Z"
   },
   {
    "duration": 0,
    "start_time": "2023-11-19T17:17:23.295Z"
   },
   {
    "duration": 0,
    "start_time": "2023-11-19T17:17:23.296Z"
   },
   {
    "duration": 0,
    "start_time": "2023-11-19T17:17:23.297Z"
   },
   {
    "duration": 0,
    "start_time": "2023-11-19T17:17:23.298Z"
   },
   {
    "duration": 0,
    "start_time": "2023-11-19T17:17:23.299Z"
   },
   {
    "duration": 0,
    "start_time": "2023-11-19T17:17:23.300Z"
   },
   {
    "duration": 0,
    "start_time": "2023-11-19T17:17:23.302Z"
   },
   {
    "duration": 0,
    "start_time": "2023-11-19T17:17:23.303Z"
   },
   {
    "duration": 0,
    "start_time": "2023-11-19T17:17:23.304Z"
   },
   {
    "duration": 0,
    "start_time": "2023-11-19T17:17:23.305Z"
   },
   {
    "duration": 3,
    "start_time": "2023-11-19T17:17:37.913Z"
   },
   {
    "duration": 4,
    "start_time": "2023-11-19T17:17:52.532Z"
   },
   {
    "duration": 67,
    "start_time": "2023-11-19T17:17:52.538Z"
   },
   {
    "duration": 1373,
    "start_time": "2023-11-19T17:17:52.607Z"
   },
   {
    "duration": 14,
    "start_time": "2023-11-19T17:17:53.982Z"
   },
   {
    "duration": 7,
    "start_time": "2023-11-19T17:17:53.998Z"
   },
   {
    "duration": 27,
    "start_time": "2023-11-19T17:17:54.007Z"
   },
   {
    "duration": 152,
    "start_time": "2023-11-19T17:17:54.035Z"
   },
   {
    "duration": 6,
    "start_time": "2023-11-19T17:17:54.189Z"
   },
   {
    "duration": 10,
    "start_time": "2023-11-19T17:17:54.196Z"
   },
   {
    "duration": 3,
    "start_time": "2023-11-19T17:17:54.208Z"
   },
   {
    "duration": 8,
    "start_time": "2023-11-19T17:17:54.212Z"
   },
   {
    "duration": 12,
    "start_time": "2023-11-19T17:17:54.222Z"
   },
   {
    "duration": 3,
    "start_time": "2023-11-19T17:17:54.235Z"
   },
   {
    "duration": 20,
    "start_time": "2023-11-19T17:17:54.275Z"
   },
   {
    "duration": 9,
    "start_time": "2023-11-19T17:17:54.297Z"
   },
   {
    "duration": 4,
    "start_time": "2023-11-19T17:17:54.308Z"
   },
   {
    "duration": 20,
    "start_time": "2023-11-19T17:17:54.314Z"
   },
   {
    "duration": 4,
    "start_time": "2023-11-19T17:17:54.336Z"
   },
   {
    "duration": 8,
    "start_time": "2023-11-19T17:17:54.341Z"
   },
   {
    "duration": 23,
    "start_time": "2023-11-19T17:17:54.351Z"
   },
   {
    "duration": 33,
    "start_time": "2023-11-19T17:17:54.376Z"
   },
   {
    "duration": 7,
    "start_time": "2023-11-19T17:17:54.411Z"
   },
   {
    "duration": 851,
    "start_time": "2023-11-19T17:17:54.420Z"
   },
   {
    "duration": 3,
    "start_time": "2023-11-19T17:17:55.273Z"
   },
   {
    "duration": 12,
    "start_time": "2023-11-19T17:17:55.278Z"
   },
   {
    "duration": 9,
    "start_time": "2023-11-19T17:17:55.291Z"
   },
   {
    "duration": 53,
    "start_time": "2023-11-19T17:17:55.302Z"
   },
   {
    "duration": 17,
    "start_time": "2023-11-19T17:17:55.357Z"
   },
   {
    "duration": 12,
    "start_time": "2023-11-19T17:17:55.376Z"
   },
   {
    "duration": 6,
    "start_time": "2023-11-19T17:17:55.389Z"
   }
  ],
  "kernelspec": {
   "display_name": "Python 3 (ipykernel)",
   "language": "python",
   "name": "python3"
  },
  "language_info": {
   "codemirror_mode": {
    "name": "ipython",
    "version": 3
   },
   "file_extension": ".py",
   "mimetype": "text/x-python",
   "name": "python",
   "nbconvert_exporter": "python",
   "pygments_lexer": "ipython3",
   "version": "3.9.13"
  },
  "toc": {
   "base_numbering": 1,
   "nav_menu": {},
   "number_sections": true,
   "sideBar": true,
   "skip_h1_title": true,
   "title_cell": "Содержание",
   "title_sidebar": "Contents",
   "toc_cell": true,
   "toc_position": {},
   "toc_section_display": true,
   "toc_window_display": true
  }
 },
 "nbformat": 4,
 "nbformat_minor": 2
}
